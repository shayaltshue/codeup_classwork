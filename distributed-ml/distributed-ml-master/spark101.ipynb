{
 "cells": [
  {
   "cell_type": "code",
   "execution_count": 1,
   "metadata": {},
   "outputs": [],
   "source": [
    "import pyspark\n",
    "import pyspark.sql.functions as F\n",
    "import pandas as pd\n",
    "import numpy as np\n",
    "import re\n",
    "\n",
    "from pydataset import data"
   ]
  },
  {
   "cell_type": "code",
   "execution_count": 2,
   "metadata": {},
   "outputs": [],
   "source": [
    "spark = pyspark.sql.SparkSession.builder.getOrCreate()"
   ]
  },
  {
   "cell_type": "code",
   "execution_count": 3,
   "metadata": {},
   "outputs": [],
   "source": [
    "p_df = pd.DataFrame(\n",
    "    dict(language=['python', 'C#'])\n",
    ")"
   ]
  },
  {
   "cell_type": "markdown",
   "metadata": {},
   "source": [
    "# Create a spark data frame that contains your favorite programming languages."
   ]
  },
  {
   "cell_type": "code",
   "execution_count": 4,
   "metadata": {},
   "outputs": [],
   "source": [
    "sp_df = spark.createDataFrame(p_df)"
   ]
  },
  {
   "cell_type": "code",
   "execution_count": 5,
   "metadata": {},
   "outputs": [
    {
     "data": {
      "text/plain": [
       "DataFrame[language: string]"
      ]
     },
     "execution_count": 5,
     "metadata": {},
     "output_type": "execute_result"
    }
   ],
   "source": [
    "sp_df"
   ]
  },
  {
   "cell_type": "code",
   "execution_count": 6,
   "metadata": {},
   "outputs": [
    {
     "name": "stdout",
     "output_type": "stream",
     "text": [
      "+--------+\n",
      "|language|\n",
      "+--------+\n",
      "|  python|\n",
      "|      C#|\n",
      "+--------+\n",
      "\n"
     ]
    }
   ],
   "source": [
    "sp_df.show(2)"
   ]
  },
  {
   "cell_type": "code",
   "execution_count": 7,
   "metadata": {},
   "outputs": [
    {
     "name": "stdout",
     "output_type": "stream",
     "text": [
      "(2, 1)\n"
     ]
    }
   ],
   "source": [
    "print((sp_df.count(), len(sp_df.columns)))"
   ]
  },
  {
   "cell_type": "code",
   "execution_count": 8,
   "metadata": {},
   "outputs": [
    {
     "name": "stdout",
     "output_type": "stream",
     "text": [
      "root\n",
      " |-- language: string (nullable = true)\n",
      "\n"
     ]
    }
   ],
   "source": [
    "sp_df.printSchema()"
   ]
  },
  {
   "cell_type": "code",
   "execution_count": 9,
   "metadata": {},
   "outputs": [
    {
     "name": "stdout",
     "output_type": "stream",
     "text": [
      "+--------+\n",
      "|language|\n",
      "+--------+\n",
      "|  python|\n",
      "|      C#|\n",
      "+--------+\n",
      "\n"
     ]
    }
   ],
   "source": [
    "sp_df.show(5)"
   ]
  },
  {
   "cell_type": "code",
   "execution_count": 10,
   "metadata": {},
   "outputs": [],
   "source": [
    "mpg = data('mpg')"
   ]
  },
  {
   "cell_type": "code",
   "execution_count": 11,
   "metadata": {},
   "outputs": [],
   "source": [
    "mpg_sp = spark.createDataFrame(mpg)"
   ]
  },
  {
   "cell_type": "code",
   "execution_count": 12,
   "metadata": {},
   "outputs": [
    {
     "name": "stdout",
     "output_type": "stream",
     "text": [
      "+------------+-----+-----+----+---+----------+---+---+---+---+-------+\n",
      "|manufacturer|model|displ|year|cyl|     trans|drv|cty|hwy| fl|  class|\n",
      "+------------+-----+-----+----+---+----------+---+---+---+---+-------+\n",
      "|        audi|   a4|  1.8|1999|  4|  auto(l5)|  f| 18| 29|  p|compact|\n",
      "|        audi|   a4|  1.8|1999|  4|manual(m5)|  f| 21| 29|  p|compact|\n",
      "|        audi|   a4|  2.0|2008|  4|manual(m6)|  f| 20| 31|  p|compact|\n",
      "|        audi|   a4|  2.0|2008|  4|  auto(av)|  f| 21| 30|  p|compact|\n",
      "|        audi|   a4|  2.8|1999|  6|  auto(l5)|  f| 16| 26|  p|compact|\n",
      "+------------+-----+-----+----+---+----------+---+---+---+---+-------+\n",
      "only showing top 5 rows\n",
      "\n"
     ]
    }
   ],
   "source": [
    "mpg_sp.show(5)"
   ]
  },
  {
   "cell_type": "code",
   "execution_count": 13,
   "metadata": {},
   "outputs": [
    {
     "name": "stdout",
     "output_type": "stream",
     "text": [
      "+----------------------------------------+\n",
      "|output                                  |\n",
      "+----------------------------------------+\n",
      "|The 1999 audi a4 has a 4 cylinder engine|\n",
      "|The 1999 audi a4 has a 4 cylinder engine|\n",
      "|The 2008 audi a4 has a 4 cylinder engine|\n",
      "|The 2008 audi a4 has a 4 cylinder engine|\n",
      "|The 1999 audi a4 has a 6 cylinder engine|\n",
      "+----------------------------------------+\n",
      "only showing top 5 rows\n",
      "\n"
     ]
    }
   ],
   "source": [
    "from pyspark.sql.functions import lit, concat\n",
    "mpg_sp.select(concat(lit('The '), mpg_sp.year, lit(' '), mpg_sp.manufacturer, lit(' '), \n",
    "                     mpg_sp.model, lit(' has a '), mpg_sp.cyl, lit(' cylinder engine'))\n",
    "              .alias(\"output\")).show(5, False)"
   ]
  },
  {
   "cell_type": "code",
   "execution_count": 26,
   "metadata": {},
   "outputs": [],
   "source": [
    "from pyspark.sql.functions import regexp_extract, regexp_replace, when"
   ]
  },
  {
   "cell_type": "code",
   "execution_count": 31,
   "metadata": {},
   "outputs": [
    {
     "name": "stdout",
     "output_type": "stream",
     "text": [
      "+------+----------------------------------------------------+\n",
      "| trans|CASE WHEN trans LIKE auto% THEN auto ELSE manual END|\n",
      "+------+----------------------------------------------------+\n",
      "|  auto|                                                auto|\n",
      "|manual|                                              manual|\n",
      "|manual|                                              manual|\n",
      "|  auto|                                                auto|\n",
      "|  auto|                                                auto|\n",
      "|manual|                                              manual|\n",
      "|  auto|                                                auto|\n",
      "|manual|                                              manual|\n",
      "|  auto|                                                auto|\n",
      "|manual|                                              manual|\n",
      "|  auto|                                                auto|\n",
      "|  auto|                                                auto|\n",
      "|manual|                                              manual|\n",
      "|  auto|                                                auto|\n",
      "|manual|                                              manual|\n",
      "|  auto|                                                auto|\n",
      "|  auto|                                                auto|\n",
      "|  auto|                                                auto|\n",
      "|  auto|                                                auto|\n",
      "|  auto|                                                auto|\n",
      "+------+----------------------------------------------------+\n",
      "only showing top 20 rows\n",
      "\n"
     ]
    }
   ],
   "source": [
    "mpg_sp.select(\n",
    "    regexp_extract('trans', r'^(\\w+)\\(', 1).alias('trans'),\n",
    "    when(mpg_sp.trans.like('auto%'), 'auto').otherwise('manual')\n",
    ").show()"
   ]
  },
  {
   "cell_type": "markdown",
   "metadata": {},
   "source": [
    "The name of the column should be language\n",
    "\n",
    "View the schema of the dataframe\n",
    "\n",
    "Output the shape of the dataframe\n",
    "\n",
    "Show the first 5 records in the dataframe"
   ]
  },
  {
   "cell_type": "markdown",
   "metadata": {},
   "source": [
    "Load the mpg dataset as a spark dataframe.\n",
    "\n",
    "Create 1 column of output that contains a message like the one below:\n",
    "The 1999 audi a4 has a 4 cylinder engine.\n",
    "For each vehicle.\n",
    "\n",
    "Transform the trans column so that it only contains either manual or auto."
   ]
  },
  {
   "cell_type": "markdown",
   "metadata": {},
   "source": [
    "Load the tips dataset as a spark dataframe."
   ]
  },
  {
   "cell_type": "code",
   "execution_count": 32,
   "metadata": {},
   "outputs": [],
   "source": [
    "tips = data('tips')"
   ]
  },
  {
   "cell_type": "code",
   "execution_count": 33,
   "metadata": {},
   "outputs": [
    {
     "data": {
      "text/html": [
       "<div>\n",
       "<style scoped>\n",
       "    .dataframe tbody tr th:only-of-type {\n",
       "        vertical-align: middle;\n",
       "    }\n",
       "\n",
       "    .dataframe tbody tr th {\n",
       "        vertical-align: top;\n",
       "    }\n",
       "\n",
       "    .dataframe thead th {\n",
       "        text-align: right;\n",
       "    }\n",
       "</style>\n",
       "<table border=\"1\" class=\"dataframe\">\n",
       "  <thead>\n",
       "    <tr style=\"text-align: right;\">\n",
       "      <th></th>\n",
       "      <th>total_bill</th>\n",
       "      <th>tip</th>\n",
       "      <th>sex</th>\n",
       "      <th>smoker</th>\n",
       "      <th>day</th>\n",
       "      <th>time</th>\n",
       "      <th>size</th>\n",
       "    </tr>\n",
       "  </thead>\n",
       "  <tbody>\n",
       "    <tr>\n",
       "      <th>1</th>\n",
       "      <td>16.99</td>\n",
       "      <td>1.01</td>\n",
       "      <td>Female</td>\n",
       "      <td>No</td>\n",
       "      <td>Sun</td>\n",
       "      <td>Dinner</td>\n",
       "      <td>2</td>\n",
       "    </tr>\n",
       "    <tr>\n",
       "      <th>2</th>\n",
       "      <td>10.34</td>\n",
       "      <td>1.66</td>\n",
       "      <td>Male</td>\n",
       "      <td>No</td>\n",
       "      <td>Sun</td>\n",
       "      <td>Dinner</td>\n",
       "      <td>3</td>\n",
       "    </tr>\n",
       "    <tr>\n",
       "      <th>3</th>\n",
       "      <td>21.01</td>\n",
       "      <td>3.50</td>\n",
       "      <td>Male</td>\n",
       "      <td>No</td>\n",
       "      <td>Sun</td>\n",
       "      <td>Dinner</td>\n",
       "      <td>3</td>\n",
       "    </tr>\n",
       "    <tr>\n",
       "      <th>4</th>\n",
       "      <td>23.68</td>\n",
       "      <td>3.31</td>\n",
       "      <td>Male</td>\n",
       "      <td>No</td>\n",
       "      <td>Sun</td>\n",
       "      <td>Dinner</td>\n",
       "      <td>2</td>\n",
       "    </tr>\n",
       "    <tr>\n",
       "      <th>5</th>\n",
       "      <td>24.59</td>\n",
       "      <td>3.61</td>\n",
       "      <td>Female</td>\n",
       "      <td>No</td>\n",
       "      <td>Sun</td>\n",
       "      <td>Dinner</td>\n",
       "      <td>4</td>\n",
       "    </tr>\n",
       "  </tbody>\n",
       "</table>\n",
       "</div>"
      ],
      "text/plain": [
       "   total_bill   tip     sex smoker  day    time  size\n",
       "1       16.99  1.01  Female     No  Sun  Dinner     2\n",
       "2       10.34  1.66    Male     No  Sun  Dinner     3\n",
       "3       21.01  3.50    Male     No  Sun  Dinner     3\n",
       "4       23.68  3.31    Male     No  Sun  Dinner     2\n",
       "5       24.59  3.61  Female     No  Sun  Dinner     4"
      ]
     },
     "execution_count": 33,
     "metadata": {},
     "output_type": "execute_result"
    }
   ],
   "source": [
    "tips.head()"
   ]
  },
  {
   "cell_type": "code",
   "execution_count": 35,
   "metadata": {},
   "outputs": [
    {
     "ename": "TypeError",
     "evalue": "data is already a DataFrame",
     "output_type": "error",
     "traceback": [
      "\u001b[0;31m---------------------------------------------------------------------------\u001b[0m",
      "\u001b[0;31mTypeError\u001b[0m                                 Traceback (most recent call last)",
      "\u001b[0;32m<ipython-input-35-d4c1ee286b8b>\u001b[0m in \u001b[0;36m<module>\u001b[0;34m\u001b[0m\n\u001b[0;32m----> 1\u001b[0;31m \u001b[0mtips\u001b[0m \u001b[0;34m=\u001b[0m \u001b[0mspark\u001b[0m\u001b[0;34m.\u001b[0m\u001b[0mcreateDataFrame\u001b[0m\u001b[0;34m(\u001b[0m\u001b[0mtips\u001b[0m\u001b[0;34m)\u001b[0m\u001b[0;34m\u001b[0m\u001b[0;34m\u001b[0m\u001b[0m\n\u001b[0m",
      "\u001b[0;32m/usr/local/anaconda3/lib/python3.7/site-packages/pyspark/sql/session.py\u001b[0m in \u001b[0;36mcreateDataFrame\u001b[0;34m(self, data, schema, samplingRatio, verifySchema)\u001b[0m\n\u001b[1;32m    670\u001b[0m         \"\"\"\n\u001b[1;32m    671\u001b[0m         \u001b[0;32mif\u001b[0m \u001b[0misinstance\u001b[0m\u001b[0;34m(\u001b[0m\u001b[0mdata\u001b[0m\u001b[0;34m,\u001b[0m \u001b[0mDataFrame\u001b[0m\u001b[0;34m)\u001b[0m\u001b[0;34m:\u001b[0m\u001b[0;34m\u001b[0m\u001b[0;34m\u001b[0m\u001b[0m\n\u001b[0;32m--> 672\u001b[0;31m             \u001b[0;32mraise\u001b[0m \u001b[0mTypeError\u001b[0m\u001b[0;34m(\u001b[0m\u001b[0;34m\"data is already a DataFrame\"\u001b[0m\u001b[0;34m)\u001b[0m\u001b[0;34m\u001b[0m\u001b[0;34m\u001b[0m\u001b[0m\n\u001b[0m\u001b[1;32m    673\u001b[0m \u001b[0;34m\u001b[0m\u001b[0m\n\u001b[1;32m    674\u001b[0m         \u001b[0;32mif\u001b[0m \u001b[0misinstance\u001b[0m\u001b[0;34m(\u001b[0m\u001b[0mschema\u001b[0m\u001b[0;34m,\u001b[0m \u001b[0mbasestring\u001b[0m\u001b[0;34m)\u001b[0m\u001b[0;34m:\u001b[0m\u001b[0;34m\u001b[0m\u001b[0;34m\u001b[0m\u001b[0m\n",
      "\u001b[0;31mTypeError\u001b[0m: data is already a DataFrame"
     ]
    }
   ],
   "source": [
    "tips = spark.createDataFrame(tips)"
   ]
  },
  {
   "cell_type": "code",
   "execution_count": 36,
   "metadata": {},
   "outputs": [
    {
     "name": "stdout",
     "output_type": "stream",
     "text": [
      "+----------+----+------+------+---+------+----+\n",
      "|total_bill| tip|   sex|smoker|day|  time|size|\n",
      "+----------+----+------+------+---+------+----+\n",
      "|     16.99|1.01|Female|    No|Sun|Dinner|   2|\n",
      "|     10.34|1.66|  Male|    No|Sun|Dinner|   3|\n",
      "|     21.01| 3.5|  Male|    No|Sun|Dinner|   3|\n",
      "|     23.68|3.31|  Male|    No|Sun|Dinner|   2|\n",
      "|     24.59|3.61|Female|    No|Sun|Dinner|   4|\n",
      "+----------+----+------+------+---+------+----+\n",
      "only showing top 5 rows\n",
      "\n"
     ]
    }
   ],
   "source": [
    "tips.show(5)"
   ]
  },
  {
   "cell_type": "markdown",
   "metadata": {},
   "source": [
    "What percentage of observations are smokers?"
   ]
  },
  {
   "cell_type": "code",
   "execution_count": 42,
   "metadata": {},
   "outputs": [
    {
     "name": "stdout",
     "output_type": "stream",
     "text": [
      "+----------+----+------+------+----+------+----+\n",
      "|total_bill| tip|   sex|smoker| day|  time|size|\n",
      "+----------+----+------+------+----+------+----+\n",
      "|     16.99|1.01|Female|  null| Sun|Dinner|   2|\n",
      "|     10.34|1.66|  Male|  null| Sun|Dinner|   3|\n",
      "|     21.01| 3.5|  Male|  null| Sun|Dinner|   3|\n",
      "|     23.68|3.31|  Male|  null| Sun|Dinner|   2|\n",
      "|     24.59|3.61|Female|  null| Sun|Dinner|   4|\n",
      "|     25.29|4.71|  Male|  null| Sun|Dinner|   4|\n",
      "|      8.77| 2.0|  Male|  null| Sun|Dinner|   2|\n",
      "|     26.88|3.12|  Male|  null| Sun|Dinner|   4|\n",
      "|     15.04|1.96|  Male|  null| Sun|Dinner|   2|\n",
      "|     14.78|3.23|  Male|  null| Sun|Dinner|   2|\n",
      "|     10.27|1.71|  Male|  null| Sun|Dinner|   2|\n",
      "|     35.26| 5.0|Female|  null| Sun|Dinner|   4|\n",
      "|     15.42|1.57|  Male|  null| Sun|Dinner|   2|\n",
      "|     18.43| 3.0|  Male|  null| Sun|Dinner|   4|\n",
      "|     14.83|3.02|Female|  null| Sun|Dinner|   2|\n",
      "|     21.58|3.92|  Male|  null| Sun|Dinner|   2|\n",
      "|     10.33|1.67|Female|  null| Sun|Dinner|   3|\n",
      "|     16.29|3.71|  Male|  null| Sun|Dinner|   3|\n",
      "|     16.97| 3.5|Female|  null| Sun|Dinner|   3|\n",
      "|     20.65|3.35|  Male|  null| Sat|Dinner|   3|\n",
      "|     17.92|4.08|  Male|  null| Sat|Dinner|   2|\n",
      "|     20.29|2.75|Female|  null| Sat|Dinner|   2|\n",
      "|     15.77|2.23|Female|  null| Sat|Dinner|   2|\n",
      "|     39.42|7.58|  Male|  null| Sat|Dinner|   4|\n",
      "|     19.82|3.18|  Male|  null| Sat|Dinner|   2|\n",
      "|     17.81|2.34|  Male|  null| Sat|Dinner|   4|\n",
      "|     13.37| 2.0|  Male|  null| Sat|Dinner|   2|\n",
      "|     12.69| 2.0|  Male|  null| Sat|Dinner|   2|\n",
      "|      21.7| 4.3|  Male|  null| Sat|Dinner|   2|\n",
      "|     19.65| 3.0|Female|  null| Sat|Dinner|   2|\n",
      "|      9.55|1.45|  Male|  null| Sat|Dinner|   2|\n",
      "|     18.35| 2.5|  Male|  null| Sat|Dinner|   4|\n",
      "|     15.06| 3.0|Female|  null| Sat|Dinner|   2|\n",
      "|     20.69|2.45|Female|  null| Sat|Dinner|   4|\n",
      "|     17.78|3.27|  Male|  null| Sat|Dinner|   2|\n",
      "|     24.06| 3.6|  Male|  null| Sat|Dinner|   3|\n",
      "|     16.31| 2.0|  Male|  null| Sat|Dinner|   3|\n",
      "|     16.93|3.07|Female|  null| Sat|Dinner|   3|\n",
      "|     18.69|2.31|  Male|  null| Sat|Dinner|   3|\n",
      "|     31.27| 5.0|  Male|  null| Sat|Dinner|   3|\n",
      "|     16.04|2.24|  Male|  null| Sat|Dinner|   3|\n",
      "|     17.46|2.54|  Male|  null| Sun|Dinner|   2|\n",
      "|     13.94|3.06|  Male|  null| Sun|Dinner|   2|\n",
      "|      9.68|1.32|  Male|  null| Sun|Dinner|   2|\n",
      "|      30.4| 5.6|  Male|  null| Sun|Dinner|   4|\n",
      "|     18.29| 3.0|  Male|  null| Sun|Dinner|   2|\n",
      "|     22.23| 5.0|  Male|  null| Sun|Dinner|   2|\n",
      "|      32.4| 6.0|  Male|  null| Sun|Dinner|   4|\n",
      "|     28.55|2.05|  Male|  null| Sun|Dinner|   3|\n",
      "|     18.04| 3.0|  Male|  null| Sun|Dinner|   2|\n",
      "|     12.54| 2.5|  Male|  null| Sun|Dinner|   2|\n",
      "|     10.29| 2.6|Female|  null| Sun|Dinner|   2|\n",
      "|     34.81| 5.2|Female|  null| Sun|Dinner|   4|\n",
      "|      9.94|1.56|  Male|  null| Sun|Dinner|   2|\n",
      "|     25.56|4.34|  Male|  null| Sun|Dinner|   4|\n",
      "|     19.49|3.51|  Male|  null| Sun|Dinner|   2|\n",
      "|     38.01| 3.0|  Male|  null| Sat|Dinner|   4|\n",
      "|     26.41| 1.5|Female|  null| Sat|Dinner|   2|\n",
      "|     11.24|1.76|  Male|  null| Sat|Dinner|   2|\n",
      "|     48.27|6.73|  Male|  null| Sat|Dinner|   4|\n",
      "|     20.29|3.21|  Male|  null| Sat|Dinner|   2|\n",
      "|     13.81| 2.0|  Male|  null| Sat|Dinner|   2|\n",
      "|     11.02|1.98|  Male|  null| Sat|Dinner|   2|\n",
      "|     18.29|3.76|  Male|  null| Sat|Dinner|   4|\n",
      "|     17.59|2.64|  Male|  null| Sat|Dinner|   3|\n",
      "|     20.08|3.15|  Male|  null| Sat|Dinner|   3|\n",
      "|     16.45|2.47|Female|  null| Sat|Dinner|   2|\n",
      "|      3.07| 1.0|Female|  null| Sat|Dinner|   1|\n",
      "|     20.23|2.01|  Male|  null| Sat|Dinner|   2|\n",
      "|     15.01|2.09|  Male|  null| Sat|Dinner|   2|\n",
      "|     12.02|1.97|  Male|  null| Sat|Dinner|   2|\n",
      "|     17.07| 3.0|Female|  null| Sat|Dinner|   3|\n",
      "|     26.86|3.14|Female|  null| Sat|Dinner|   2|\n",
      "|     25.28| 5.0|Female|  null| Sat|Dinner|   2|\n",
      "|     14.73| 2.2|Female|  null| Sat|Dinner|   2|\n",
      "|     10.51|1.25|  Male|  null| Sat|Dinner|   2|\n",
      "|     17.92|3.08|  Male|  null| Sat|Dinner|   2|\n",
      "|      27.2| 4.0|  Male|  null|Thur| Lunch|   4|\n",
      "|     22.76| 3.0|  Male|  null|Thur| Lunch|   2|\n",
      "|     17.29|2.71|  Male|  null|Thur| Lunch|   2|\n",
      "|     19.44| 3.0|  Male|  null|Thur| Lunch|   2|\n",
      "|     16.66| 3.4|  Male|  null|Thur| Lunch|   2|\n",
      "|     10.07|1.83|Female|  null|Thur| Lunch|   1|\n",
      "|     32.68| 5.0|  Male|  null|Thur| Lunch|   2|\n",
      "|     15.98|2.03|  Male|  null|Thur| Lunch|   2|\n",
      "|     34.83|5.17|Female|  null|Thur| Lunch|   4|\n",
      "|     13.03| 2.0|  Male|  null|Thur| Lunch|   2|\n",
      "|     18.28| 4.0|  Male|  null|Thur| Lunch|   2|\n",
      "|     24.71|5.85|  Male|  null|Thur| Lunch|   2|\n",
      "|     21.16| 3.0|  Male|  null|Thur| Lunch|   2|\n",
      "|     28.97| 3.0|  Male|  null| Fri|Dinner|   2|\n",
      "|     22.49| 3.5|  Male|  null| Fri|Dinner|   2|\n",
      "|      5.75| 1.0|Female|  null| Fri|Dinner|   2|\n",
      "|     16.32| 4.3|Female|  null| Fri|Dinner|   2|\n",
      "|     22.75|3.25|Female|  null| Fri|Dinner|   2|\n",
      "|     40.17|4.73|  Male|  null| Fri|Dinner|   4|\n",
      "|     27.28| 4.0|  Male|  null| Fri|Dinner|   2|\n",
      "|     12.03| 1.5|  Male|  null| Fri|Dinner|   2|\n",
      "|     21.01| 3.0|  Male|  null| Fri|Dinner|   2|\n",
      "|     12.46| 1.5|  Male|  null| Fri|Dinner|   2|\n",
      "+----------+----+------+------+----+------+----+\n",
      "only showing top 100 rows\n",
      "\n"
     ]
    }
   ],
   "source": [
    "sum_spend = tips.agg(F.sum(F.col(\"smoker\")).alias(\"smokes\")).collect()[0][0]"
   ]
  },
  {
   "cell_type": "markdown",
   "metadata": {},
   "source": [
    "Create a column that contains the tip percentage\n",
    "Calculate the average tip percentage for each combination of sex and smoker."
   ]
  },
  {
   "cell_type": "markdown",
   "metadata": {},
   "source": [
    "Use the seattle weather dataset referenced in the lesson to answer the questions below.\n",
    "\n",
    "Convert the temperatures to farenheight.\n",
    "Which month has the most rain, on average?\n",
    "Which year was the windiest?\n",
    "What is the most frequent type of weather in January?\n",
    "What is the average high and low tempurature on sunny days in July in 2013 and 2014?\n",
    "What percentage of days were rainy in q3 of 2015?\n",
    "For each year, find what percentage of days it rained (had non-zero precipitation)."
   ]
  },
  {
   "cell_type": "code",
   "execution_count": null,
   "metadata": {},
   "outputs": [],
   "source": []
  }
 ],
 "metadata": {
  "kernelspec": {
   "display_name": "Python 3",
   "language": "python",
   "name": "python3"
  },
  "language_info": {
   "codemirror_mode": {
    "name": "ipython",
    "version": 3
   },
   "file_extension": ".py",
   "mimetype": "text/x-python",
   "name": "python",
   "nbconvert_exporter": "python",
   "pygments_lexer": "ipython3",
   "version": "3.7.6"
  }
 },
 "nbformat": 4,
 "nbformat_minor": 4
}
