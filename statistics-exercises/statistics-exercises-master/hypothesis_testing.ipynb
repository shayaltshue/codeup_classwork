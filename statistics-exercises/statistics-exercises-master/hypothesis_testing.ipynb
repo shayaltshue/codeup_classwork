{
 "cells": [
  {
   "cell_type": "markdown",
   "metadata": {
    "toc": true
   },
   "source": [
    "<h1>Table of Contents<span class=\"tocSkip\"></span></h1>\n",
    "<div class=\"toc\"><ul class=\"toc-item\"><li><span><a href=\"#For-each-of-the-following-questions,-formulate-a-null-and-alternative-hypothesis-(be-as-specific-as-you-can-be),-then-give-an-example-of-what-a-true-positive,-true-negative,-type-I-and-type-II-errors-would-look-like.-Note-that-some-of-the-questions-are-intentionally-phrased-in-a-vague-way.-It-is-your-job-to-reword-these-as-more-precise-questions-that-could-be-tested.\" data-toc-modified-id=\"For-each-of-the-following-questions,-formulate-a-null-and-alternative-hypothesis-(be-as-specific-as-you-can-be),-then-give-an-example-of-what-a-true-positive,-true-negative,-type-I-and-type-II-errors-would-look-like.-Note-that-some-of-the-questions-are-intentionally-phrased-in-a-vague-way.-It-is-your-job-to-reword-these-as-more-precise-questions-that-could-be-tested.-1\"><span class=\"toc-item-num\">1&nbsp;&nbsp;</span>For each of the following questions, formulate a null and alternative hypothesis (be as specific as you can be), then give an example of what a true positive, true negative, type I and type II errors would look like. Note that some of the questions are intentionally phrased in a vague way. It is your job to reword these as more precise questions that could be tested.</a></span></li><li><span><a href=\"#Ace-Realty-wants-to-determine-whether-the-average-time-it-takes-to-sell-homes-is-different-for-its-two-offices.-A-sample-of-40-sales-from-office-#1-revealed-a-mean-of-90-days-and-a-standard-deviation-of-15-days.-A-sample-of-50-sales-from-office-#2-revealed-a-mean-of-100-days-and-a-standard-deviation-of-20-days.-Use-a-.05-level-of-significance.\" data-toc-modified-id=\"Ace-Realty-wants-to-determine-whether-the-average-time-it-takes-to-sell-homes-is-different-for-its-two-offices.-A-sample-of-40-sales-from-office-#1-revealed-a-mean-of-90-days-and-a-standard-deviation-of-15-days.-A-sample-of-50-sales-from-office-#2-revealed-a-mean-of-100-days-and-a-standard-deviation-of-20-days.-Use-a-.05-level-of-significance.-2\"><span class=\"toc-item-num\">2&nbsp;&nbsp;</span>Ace Realty wants to determine whether the average time it takes to sell homes is different for its two offices. A sample of 40 sales from office #1 revealed a mean of 90 days and a standard deviation of 15 days. A sample of 50 sales from office #2 revealed a mean of 100 days and a standard deviation of 20 days. Use a .05 level of significance.</a></span><ul class=\"toc-item\"><li><span><a href=\"#Is-there-a-difference-in-fuel-efficiency-in-cars-from-2008-vs-1999?\" data-toc-modified-id=\"Is-there-a-difference-in-fuel-efficiency-in-cars-from-2008-vs-1999?-2.1\"><span class=\"toc-item-num\">2.1&nbsp;&nbsp;</span>Is there a difference in fuel-efficiency in cars from 2008 vs 1999?</a></span></li><li><span><a href=\"#Are-compact-cars-more-fuel-efficient-than-the-average-car?\" data-toc-modified-id=\"Are-compact-cars-more-fuel-efficient-than-the-average-car?-2.2\"><span class=\"toc-item-num\">2.2&nbsp;&nbsp;</span>Are compact cars more fuel-efficient than the average car?</a></span></li></ul></li><li><span><a href=\"#Correlation\" data-toc-modified-id=\"Correlation-3\"><span class=\"toc-item-num\">3&nbsp;&nbsp;</span>Correlation</a></span><ul class=\"toc-item\"><li><span><a href=\"#Use-the-telco_churn-data.\" data-toc-modified-id=\"Use-the-telco_churn-data.-3.1\"><span class=\"toc-item-num\">3.1&nbsp;&nbsp;</span>Use the telco_churn data.</a></span><ul class=\"toc-item\"><li><span><a href=\"#Does-tenure-correlate-with-monthly-charges?\" data-toc-modified-id=\"Does-tenure-correlate-with-monthly-charges?-3.1.1\"><span class=\"toc-item-num\">3.1.1&nbsp;&nbsp;</span>Does tenure correlate with monthly charges?</a></span></li><li><span><a href=\"#Does-tenure-correlate-with-total-charges?\" data-toc-modified-id=\"Does-tenure-correlate-with-total-charges?-3.1.2\"><span class=\"toc-item-num\">3.1.2&nbsp;&nbsp;</span>Does tenure correlate with total charges?</a></span></li><li><span><a href=\"#What-happens-if-you-control-for-phone-and-internet-service?\" data-toc-modified-id=\"What-happens-if-you-control-for-phone-and-internet-service?-3.1.3\"><span class=\"toc-item-num\">3.1.3&nbsp;&nbsp;</span>What happens if you control for phone and internet service?</a></span></li></ul></li><li><span><a href=\"#Use-the-employees-database.\" data-toc-modified-id=\"Use-the-employees-database.-3.2\"><span class=\"toc-item-num\">3.2&nbsp;&nbsp;</span>Use the employees database.</a></span><ul class=\"toc-item\"><li><span><a href=\"#Is-there-a-relationship-between-how-long-an-employee-has-been-with-the-company-and-their-salary?\" data-toc-modified-id=\"Is-there-a-relationship-between-how-long-an-employee-has-been-with-the-company-and-their-salary?-3.2.1\"><span class=\"toc-item-num\">3.2.1&nbsp;&nbsp;</span>Is there a relationship between how long an employee has been with the company and their salary?</a></span></li><li><span><a href=\"#Is-there-a-relationship-between-how-long-an-employee-has-been-with-the-company-and-the-number-of-titles-they-have-had?\" data-toc-modified-id=\"Is-there-a-relationship-between-how-long-an-employee-has-been-with-the-company-and-the-number-of-titles-they-have-had?-3.2.2\"><span class=\"toc-item-num\">3.2.2&nbsp;&nbsp;</span>Is there a relationship between how long an employee has been with the company and the number of titles they have had?</a></span></li></ul></li><li><span><a href=\"#Use-the-sleepstudy-data.\" data-toc-modified-id=\"Use-the-sleepstudy-data.-3.3\"><span class=\"toc-item-num\">3.3&nbsp;&nbsp;</span>Use the sleepstudy data.</a></span><ul class=\"toc-item\"><li><span><a href=\"#Is-there-a-relationship-between-days-and-reaction-time?\" data-toc-modified-id=\"Is-there-a-relationship-between-days-and-reaction-time?-3.3.1\"><span class=\"toc-item-num\">3.3.1&nbsp;&nbsp;</span>Is there a relationship between days and reaction time?</a></span></li></ul></li></ul></li><li><span><a href=\"#Chi-Square-Testing\" data-toc-modified-id=\"Chi-Square-Testing-4\"><span class=\"toc-item-num\">4&nbsp;&nbsp;</span>Chi Square Testing</a></span><ul class=\"toc-item\"><li><span><a href=\"#Use-the-following-contingency-table-to-help-answer-the-question-of-whether-using-a-macbook-and-being-a-codeup-student-are-independent-of-each-other.\" data-toc-modified-id=\"Use-the-following-contingency-table-to-help-answer-the-question-of-whether-using-a-macbook-and-being-a-codeup-student-are-independent-of-each-other.-4.1\"><span class=\"toc-item-num\">4.1&nbsp;&nbsp;</span>Use the following contingency table to help answer the question of whether using a macbook and being a codeup student are independent of each other.</a></span></li><li><span><a href=\"#Use-the-data-from-the-employees-database-to-answer-these-questions:\" data-toc-modified-id=\"Use-the-data-from-the-employees-database-to-answer-these-questions:-4.2\"><span class=\"toc-item-num\">4.2&nbsp;&nbsp;</span>Use the data from the employees database to answer these questions:</a></span></li></ul></li></ul></div>"
   ]
  },
  {
   "cell_type": "code",
   "execution_count": 1,
   "metadata": {},
   "outputs": [],
   "source": [
    "from pydataset import data\n",
    "from scipy import stats\n",
    "import pandas as pd\n",
    "import numpy as np\n",
    "import env"
   ]
  },
  {
   "cell_type": "markdown",
   "metadata": {},
   "source": [
    "# For each of the following questions, formulate a null and alternative hypothesis (be as specific as you can be), then give an example of what a true positive, true negative, type I and type II errors would look like. Note that some of the questions are intentionally phrased in a vague way. It is your job to reword these as more precise questions that could be tested."
   ]
  },
  {
   "cell_type": "markdown",
   "metadata": {},
   "source": [
    "Has the network latency gone up since we switched internet service providers?\n",
    "\n",
    "H_0: There is not a difference in latancy\n",
    "    True Negative - There is no latancy change betweeen internet service providers\n",
    "    False Negative - There is no change between providers, but sampling error indicated there was a difference. \n",
    "        * User decided to become a gamer, eating up major bandwidth playing multiplayer pacman\n",
    "        * Netflix has consumed user's life\n",
    "        * Disney+ won't let them go\n",
    "        \n",
    "Ha: There is a difference in latancy\n",
    "    True Positive - Latency has gone up since changing providers\n",
    "    False Positive -         \n",
    "        * Users in the region have experienced an up tick in latency across the board from quarantine"
   ]
  },
  {
   "cell_type": "markdown",
   "metadata": {},
   "source": [
    "Is the website redesign any good?\n",
    "\n",
    "ho: traffic to website has not changed after the redesign\n",
    "    true negative - there has been no change in the number of visitors to the site after the rework\n",
    "    false negative - \n",
    "ha: traffic to website has increased after the redesign\n",
    "    true positive - there has been a significant increase to the average number of visitors per day after the site rework\n",
    "    false positive - A new website partnership began sending an increased number of visitors to the site"
   ]
  },
  {
   "cell_type": "markdown",
   "metadata": {},
   "source": [
    "Is our television ad driving more sales?\n",
    "h0: ad had no effect on sales\n",
    "    true negative - no effect was shown, no sampling errors to account for\n",
    "    false negative - sampling errors occurred that may indicate:\n",
    "        * ad was not broadcasted to a large audience (maybe there was an issue broadcasting)\n",
    "        * ad was broadcasted at the same time as puppy monkey baby\n",
    "ha: ad had a positive impact on sales\n",
    "    true positive: revenue has increased directly after sales with no alternative influencors on sales\n",
    "    false positive: revenue has increased, however it was caused by:\n",
    "        * swimsuit ad going on during the same time spring break is happening\n",
    "        * jesus toilet paper ads must feel like a joke right now"
   ]
  },
  {
   "cell_type": "markdown",
   "metadata": {},
   "source": [
    "# Ace Realty wants to determine whether the average time it takes to sell homes is different for its two offices. A sample of 40 sales from office #1 revealed a mean of 90 days and a standard deviation of 15 days. A sample of 50 sales from office #2 revealed a mean of 100 days and a standard deviation of 20 days. Use a .05 level of significance."
   ]
  },
  {
   "cell_type": "markdown",
   "metadata": {},
   "source": [
    "Load the mpg dataset and use it to answer the following questions:"
   ]
  },
  {
   "cell_type": "code",
   "execution_count": 2,
   "metadata": {},
   "outputs": [
    {
     "data": {
      "text/html": [
       "<div>\n",
       "<style scoped>\n",
       "    .dataframe tbody tr th:only-of-type {\n",
       "        vertical-align: middle;\n",
       "    }\n",
       "\n",
       "    .dataframe tbody tr th {\n",
       "        vertical-align: top;\n",
       "    }\n",
       "\n",
       "    .dataframe thead th {\n",
       "        text-align: right;\n",
       "    }\n",
       "</style>\n",
       "<table border=\"1\" class=\"dataframe\">\n",
       "  <thead>\n",
       "    <tr style=\"text-align: right;\">\n",
       "      <th></th>\n",
       "      <th>manufacturer</th>\n",
       "      <th>model</th>\n",
       "      <th>displ</th>\n",
       "      <th>year</th>\n",
       "      <th>cyl</th>\n",
       "      <th>trans</th>\n",
       "      <th>drv</th>\n",
       "      <th>cty</th>\n",
       "      <th>hwy</th>\n",
       "      <th>fl</th>\n",
       "      <th>is_compact</th>\n",
       "      <th>avg_mpg</th>\n",
       "      <th>is_auto</th>\n",
       "    </tr>\n",
       "  </thead>\n",
       "  <tbody>\n",
       "    <tr>\n",
       "      <td>1</td>\n",
       "      <td>audi</td>\n",
       "      <td>a4</td>\n",
       "      <td>1.8</td>\n",
       "      <td>1999</td>\n",
       "      <td>4</td>\n",
       "      <td>auto(l5)</td>\n",
       "      <td>f</td>\n",
       "      <td>18</td>\n",
       "      <td>29</td>\n",
       "      <td>p</td>\n",
       "      <td>compact</td>\n",
       "      <td>23.5</td>\n",
       "      <td>True</td>\n",
       "    </tr>\n",
       "    <tr>\n",
       "      <td>2</td>\n",
       "      <td>audi</td>\n",
       "      <td>a4</td>\n",
       "      <td>1.8</td>\n",
       "      <td>1999</td>\n",
       "      <td>4</td>\n",
       "      <td>manual(m5)</td>\n",
       "      <td>f</td>\n",
       "      <td>21</td>\n",
       "      <td>29</td>\n",
       "      <td>p</td>\n",
       "      <td>compact</td>\n",
       "      <td>25.0</td>\n",
       "      <td>False</td>\n",
       "    </tr>\n",
       "    <tr>\n",
       "      <td>3</td>\n",
       "      <td>audi</td>\n",
       "      <td>a4</td>\n",
       "      <td>2.0</td>\n",
       "      <td>2008</td>\n",
       "      <td>4</td>\n",
       "      <td>manual(m6)</td>\n",
       "      <td>f</td>\n",
       "      <td>20</td>\n",
       "      <td>31</td>\n",
       "      <td>p</td>\n",
       "      <td>compact</td>\n",
       "      <td>25.5</td>\n",
       "      <td>False</td>\n",
       "    </tr>\n",
       "    <tr>\n",
       "      <td>4</td>\n",
       "      <td>audi</td>\n",
       "      <td>a4</td>\n",
       "      <td>2.0</td>\n",
       "      <td>2008</td>\n",
       "      <td>4</td>\n",
       "      <td>auto(av)</td>\n",
       "      <td>f</td>\n",
       "      <td>21</td>\n",
       "      <td>30</td>\n",
       "      <td>p</td>\n",
       "      <td>compact</td>\n",
       "      <td>25.5</td>\n",
       "      <td>True</td>\n",
       "    </tr>\n",
       "    <tr>\n",
       "      <td>5</td>\n",
       "      <td>audi</td>\n",
       "      <td>a4</td>\n",
       "      <td>2.8</td>\n",
       "      <td>1999</td>\n",
       "      <td>6</td>\n",
       "      <td>auto(l5)</td>\n",
       "      <td>f</td>\n",
       "      <td>16</td>\n",
       "      <td>26</td>\n",
       "      <td>p</td>\n",
       "      <td>compact</td>\n",
       "      <td>21.0</td>\n",
       "      <td>True</td>\n",
       "    </tr>\n",
       "  </tbody>\n",
       "</table>\n",
       "</div>"
      ],
      "text/plain": [
       "  manufacturer model  displ  year  cyl       trans drv  cty  hwy fl  \\\n",
       "1         audi    a4    1.8  1999    4    auto(l5)   f   18   29  p   \n",
       "2         audi    a4    1.8  1999    4  manual(m5)   f   21   29  p   \n",
       "3         audi    a4    2.0  2008    4  manual(m6)   f   20   31  p   \n",
       "4         audi    a4    2.0  2008    4    auto(av)   f   21   30  p   \n",
       "5         audi    a4    2.8  1999    6    auto(l5)   f   16   26  p   \n",
       "\n",
       "  is_compact  avg_mpg  is_auto  \n",
       "1    compact     23.5     True  \n",
       "2    compact     25.0    False  \n",
       "3    compact     25.5    False  \n",
       "4    compact     25.5     True  \n",
       "5    compact     21.0     True  "
      ]
     },
     "execution_count": 2,
     "metadata": {},
     "output_type": "execute_result"
    }
   ],
   "source": [
    "mpg = data('mpg')\n",
    "\n",
    "# Create a average mpg based on (highway + city) / 2\n",
    "mpg['avg_mpg'] = (mpg['hwy'] + mpg['cty']) / 2\n",
    "\n",
    "mpg['is_auto'] = mpg.trans.str.contains('auto')\n",
    "\n",
    "mpg.rename(columns={'class': 'is_compact'}, inplace=True)\n",
    "\n",
    "mpg.head()"
   ]
  },
  {
   "cell_type": "markdown",
   "metadata": {},
   "source": [
    "## Is there a difference in fuel-efficiency in cars from 2008 vs 1999?"
   ]
  },
  {
   "cell_type": "markdown",
   "metadata": {},
   "source": [
    "Ho = there will be no difference in mpg \n",
    "Ha = cars from 2008 will be more fuel effecient"
   ]
  },
  {
   "cell_type": "code",
   "execution_count": 3,
   "metadata": {},
   "outputs": [],
   "source": [
    "c_level = .05\n",
    "alpha = 1 - c_level\n",
    "x1 = mpg[mpg.year == 2008]['avg_mpg']\n",
    "x2 = mpg[mpg.year == 1999]['avg_mpg']"
   ]
  },
  {
   "cell_type": "code",
   "execution_count": 4,
   "metadata": {},
   "outputs": [
    {
     "data": {
      "text/plain": [
       "(-0.21960177245940962, 0.8263744040323578, True)"
      ]
     },
     "execution_count": 4,
     "metadata": {},
     "output_type": "execute_result"
    }
   ],
   "source": [
    "t, p = stats.ttest_ind(x1, x2)\n",
    "t, p, p < alpha"
   ]
  },
  {
   "cell_type": "markdown",
   "metadata": {},
   "source": [
    "## Are compact cars more fuel-efficient than the average car?"
   ]
  },
  {
   "cell_type": "markdown",
   "metadata": {},
   "source": [
    "Ho - Compact cars are similiarly fuel effecient to the average\n",
    "Ha - compact cars are more fuel efficient"
   ]
  },
  {
   "cell_type": "code",
   "execution_count": 5,
   "metadata": {},
   "outputs": [
    {
     "data": {
      "text/plain": [
       "(7.896888573132535, 4.1985637943171336e-10)"
      ]
     },
     "execution_count": 5,
     "metadata": {},
     "output_type": "execute_result"
    }
   ],
   "source": [
    "avg_comp_mpg = mpg[mpg.is_compact == 'compact']['avg_mpg']\n",
    "avg_mpg = mpg.avg_mpg.mean()\n",
    "\n",
    "t, p = stats.ttest_1samp(avg_comp_mpg, avg_mpg)\n",
    "t, p"
   ]
  },
  {
   "cell_type": "markdown",
   "metadata": {},
   "source": [
    "Do manual cars get better gas mileage than automatic cars?"
   ]
  },
  {
   "cell_type": "code",
   "execution_count": 6,
   "metadata": {},
   "outputs": [
    {
     "data": {
      "text/plain": [
       "(4.593437735750014, 7.154374401145683e-06)"
      ]
     },
     "execution_count": 6,
     "metadata": {},
     "output_type": "execute_result"
    }
   ],
   "source": [
    "auto = mpg[mpg.is_auto == True]['avg_mpg']\n",
    "manual = mpg[mpg.is_auto == False]['avg_mpg']\n",
    "\n",
    "t, p = stats.ttest_ind(manual, auto)\n",
    "t, p"
   ]
  },
  {
   "cell_type": "markdown",
   "metadata": {},
   "source": [
    "# Correlation"
   ]
  },
  {
   "cell_type": "markdown",
   "metadata": {},
   "source": [
    "## Use the telco_churn data."
   ]
  },
  {
   "cell_type": "code",
   "execution_count": 7,
   "metadata": {},
   "outputs": [],
   "source": [
    "telco_url = env.get_url_for_pancakes('telco_churn')"
   ]
  },
  {
   "cell_type": "code",
   "execution_count": 8,
   "metadata": {},
   "outputs": [],
   "source": [
    "query = '''\n",
    "SELECT * \n",
    "FROM customers\n",
    "LEFT JOIN contract_types using(contract_type_id)'''"
   ]
  },
  {
   "cell_type": "code",
   "execution_count": 9,
   "metadata": {},
   "outputs": [],
   "source": [
    "telco = pd.read_sql(query, telco_url, index_col='customer_id')\n",
    "telco.total_charges = telco.total_charges.replace(' ', np.nan).astype(float)\n",
    "telco = telco.dropna()"
   ]
  },
  {
   "cell_type": "code",
   "execution_count": 10,
   "metadata": {},
   "outputs": [
    {
     "data": {
      "text/html": [
       "<div>\n",
       "<style scoped>\n",
       "    .dataframe tbody tr th:only-of-type {\n",
       "        vertical-align: middle;\n",
       "    }\n",
       "\n",
       "    .dataframe tbody tr th {\n",
       "        vertical-align: top;\n",
       "    }\n",
       "\n",
       "    .dataframe thead th {\n",
       "        text-align: right;\n",
       "    }\n",
       "</style>\n",
       "<table border=\"1\" class=\"dataframe\">\n",
       "  <thead>\n",
       "    <tr style=\"text-align: right;\">\n",
       "      <th></th>\n",
       "      <th>contract_type_id</th>\n",
       "      <th>gender</th>\n",
       "      <th>senior_citizen</th>\n",
       "      <th>partner</th>\n",
       "      <th>dependents</th>\n",
       "      <th>tenure</th>\n",
       "      <th>phone_service</th>\n",
       "      <th>multiple_lines</th>\n",
       "      <th>internet_service_type_id</th>\n",
       "      <th>online_security</th>\n",
       "      <th>...</th>\n",
       "      <th>device_protection</th>\n",
       "      <th>tech_support</th>\n",
       "      <th>streaming_tv</th>\n",
       "      <th>streaming_movies</th>\n",
       "      <th>paperless_billing</th>\n",
       "      <th>payment_type_id</th>\n",
       "      <th>monthly_charges</th>\n",
       "      <th>total_charges</th>\n",
       "      <th>churn</th>\n",
       "      <th>contract_type</th>\n",
       "    </tr>\n",
       "    <tr>\n",
       "      <th>customer_id</th>\n",
       "      <th></th>\n",
       "      <th></th>\n",
       "      <th></th>\n",
       "      <th></th>\n",
       "      <th></th>\n",
       "      <th></th>\n",
       "      <th></th>\n",
       "      <th></th>\n",
       "      <th></th>\n",
       "      <th></th>\n",
       "      <th></th>\n",
       "      <th></th>\n",
       "      <th></th>\n",
       "      <th></th>\n",
       "      <th></th>\n",
       "      <th></th>\n",
       "      <th></th>\n",
       "      <th></th>\n",
       "      <th></th>\n",
       "      <th></th>\n",
       "      <th></th>\n",
       "    </tr>\n",
       "  </thead>\n",
       "  <tbody>\n",
       "    <tr>\n",
       "      <td>0003-MKNFE</td>\n",
       "      <td>1</td>\n",
       "      <td>Male</td>\n",
       "      <td>0</td>\n",
       "      <td>No</td>\n",
       "      <td>No</td>\n",
       "      <td>9</td>\n",
       "      <td>Yes</td>\n",
       "      <td>Yes</td>\n",
       "      <td>1</td>\n",
       "      <td>No</td>\n",
       "      <td>...</td>\n",
       "      <td>No</td>\n",
       "      <td>No</td>\n",
       "      <td>No</td>\n",
       "      <td>Yes</td>\n",
       "      <td>No</td>\n",
       "      <td>2</td>\n",
       "      <td>59.9</td>\n",
       "      <td>542.40</td>\n",
       "      <td>No</td>\n",
       "      <td>Month-to-month</td>\n",
       "    </tr>\n",
       "    <tr>\n",
       "      <td>0004-TLHLJ</td>\n",
       "      <td>1</td>\n",
       "      <td>Male</td>\n",
       "      <td>0</td>\n",
       "      <td>No</td>\n",
       "      <td>No</td>\n",
       "      <td>4</td>\n",
       "      <td>Yes</td>\n",
       "      <td>No</td>\n",
       "      <td>2</td>\n",
       "      <td>No</td>\n",
       "      <td>...</td>\n",
       "      <td>Yes</td>\n",
       "      <td>No</td>\n",
       "      <td>No</td>\n",
       "      <td>No</td>\n",
       "      <td>Yes</td>\n",
       "      <td>1</td>\n",
       "      <td>73.9</td>\n",
       "      <td>280.85</td>\n",
       "      <td>Yes</td>\n",
       "      <td>Month-to-month</td>\n",
       "    </tr>\n",
       "    <tr>\n",
       "      <td>0011-IGKFF</td>\n",
       "      <td>1</td>\n",
       "      <td>Male</td>\n",
       "      <td>1</td>\n",
       "      <td>Yes</td>\n",
       "      <td>No</td>\n",
       "      <td>13</td>\n",
       "      <td>Yes</td>\n",
       "      <td>No</td>\n",
       "      <td>2</td>\n",
       "      <td>No</td>\n",
       "      <td>...</td>\n",
       "      <td>Yes</td>\n",
       "      <td>No</td>\n",
       "      <td>Yes</td>\n",
       "      <td>Yes</td>\n",
       "      <td>Yes</td>\n",
       "      <td>1</td>\n",
       "      <td>98.0</td>\n",
       "      <td>1237.85</td>\n",
       "      <td>Yes</td>\n",
       "      <td>Month-to-month</td>\n",
       "    </tr>\n",
       "    <tr>\n",
       "      <td>0013-EXCHZ</td>\n",
       "      <td>1</td>\n",
       "      <td>Female</td>\n",
       "      <td>1</td>\n",
       "      <td>Yes</td>\n",
       "      <td>No</td>\n",
       "      <td>3</td>\n",
       "      <td>Yes</td>\n",
       "      <td>No</td>\n",
       "      <td>2</td>\n",
       "      <td>No</td>\n",
       "      <td>...</td>\n",
       "      <td>No</td>\n",
       "      <td>Yes</td>\n",
       "      <td>Yes</td>\n",
       "      <td>No</td>\n",
       "      <td>Yes</td>\n",
       "      <td>2</td>\n",
       "      <td>83.9</td>\n",
       "      <td>267.40</td>\n",
       "      <td>Yes</td>\n",
       "      <td>Month-to-month</td>\n",
       "    </tr>\n",
       "    <tr>\n",
       "      <td>0013-MHZWF</td>\n",
       "      <td>1</td>\n",
       "      <td>Female</td>\n",
       "      <td>0</td>\n",
       "      <td>No</td>\n",
       "      <td>Yes</td>\n",
       "      <td>9</td>\n",
       "      <td>Yes</td>\n",
       "      <td>No</td>\n",
       "      <td>1</td>\n",
       "      <td>No</td>\n",
       "      <td>...</td>\n",
       "      <td>No</td>\n",
       "      <td>Yes</td>\n",
       "      <td>Yes</td>\n",
       "      <td>Yes</td>\n",
       "      <td>Yes</td>\n",
       "      <td>4</td>\n",
       "      <td>69.4</td>\n",
       "      <td>571.45</td>\n",
       "      <td>No</td>\n",
       "      <td>Month-to-month</td>\n",
       "    </tr>\n",
       "  </tbody>\n",
       "</table>\n",
       "<p>5 rows × 21 columns</p>\n",
       "</div>"
      ],
      "text/plain": [
       "             contract_type_id  gender  senior_citizen partner dependents  \\\n",
       "customer_id                                                                \n",
       "0003-MKNFE                  1    Male               0      No         No   \n",
       "0004-TLHLJ                  1    Male               0      No         No   \n",
       "0011-IGKFF                  1    Male               1     Yes         No   \n",
       "0013-EXCHZ                  1  Female               1     Yes         No   \n",
       "0013-MHZWF                  1  Female               0      No        Yes   \n",
       "\n",
       "             tenure phone_service multiple_lines  internet_service_type_id  \\\n",
       "customer_id                                                                  \n",
       "0003-MKNFE        9           Yes            Yes                         1   \n",
       "0004-TLHLJ        4           Yes             No                         2   \n",
       "0011-IGKFF       13           Yes             No                         2   \n",
       "0013-EXCHZ        3           Yes             No                         2   \n",
       "0013-MHZWF        9           Yes             No                         1   \n",
       "\n",
       "            online_security  ... device_protection tech_support streaming_tv  \\\n",
       "customer_id                  ...                                               \n",
       "0003-MKNFE               No  ...                No           No           No   \n",
       "0004-TLHLJ               No  ...               Yes           No           No   \n",
       "0011-IGKFF               No  ...               Yes           No          Yes   \n",
       "0013-EXCHZ               No  ...                No          Yes          Yes   \n",
       "0013-MHZWF               No  ...                No          Yes          Yes   \n",
       "\n",
       "            streaming_movies paperless_billing payment_type_id  \\\n",
       "customer_id                                                      \n",
       "0003-MKNFE               Yes                No               2   \n",
       "0004-TLHLJ                No               Yes               1   \n",
       "0011-IGKFF               Yes               Yes               1   \n",
       "0013-EXCHZ                No               Yes               2   \n",
       "0013-MHZWF               Yes               Yes               4   \n",
       "\n",
       "             monthly_charges  total_charges  churn   contract_type  \n",
       "customer_id                                                         \n",
       "0003-MKNFE              59.9         542.40     No  Month-to-month  \n",
       "0004-TLHLJ              73.9         280.85    Yes  Month-to-month  \n",
       "0011-IGKFF              98.0        1237.85    Yes  Month-to-month  \n",
       "0013-EXCHZ              83.9         267.40    Yes  Month-to-month  \n",
       "0013-MHZWF              69.4         571.45     No  Month-to-month  \n",
       "\n",
       "[5 rows x 21 columns]"
      ]
     },
     "execution_count": 10,
     "metadata": {},
     "output_type": "execute_result"
    }
   ],
   "source": [
    "telco.head()"
   ]
  },
  {
   "cell_type": "markdown",
   "metadata": {},
   "source": [
    "### Does tenure correlate with monthly charges? "
   ]
  },
  {
   "cell_type": "code",
   "execution_count": 11,
   "metadata": {},
   "outputs": [
    {
     "data": {
      "text/plain": [
       "(0.3622745229296931, 1.6782903370120815e-120)"
      ]
     },
     "execution_count": 11,
     "metadata": {},
     "output_type": "execute_result"
    }
   ],
   "source": [
    "alpha = 0.05\n",
    "\n",
    "x = telco[telco.contract_type.str.contains('Month')]['monthly_charges']\n",
    "y = telco[telco.contract_type.str.contains('Month')]['tenure']\n",
    "\n",
    "r, p = stats.pearsonr(x, y)\n",
    "r, p"
   ]
  },
  {
   "cell_type": "code",
   "execution_count": 12,
   "metadata": {
    "scrolled": true
   },
   "outputs": [
    {
     "name": "stdout",
     "output_type": "stream",
     "text": [
      " \n",
      "p (1.6782903370120815e-120) < alpha (0.05), therefor we reject the null hypothesis.\n",
      "\n"
     ]
    }
   ],
   "source": [
    "print(f''' \n",
    "p ({p}) < alpha ({alpha}), therefor we reject the null hypothesis.\n",
    "''')"
   ]
  },
  {
   "cell_type": "markdown",
   "metadata": {},
   "source": [
    "### Does tenure correlate with total charges?"
   ]
  },
  {
   "cell_type": "code",
   "execution_count": 13,
   "metadata": {},
   "outputs": [
    {
     "name": "stdout",
     "output_type": "stream",
     "text": [
      " \n",
      "p (0.0) < alpha (0.05), therefor we reject the null hypothesis.\n",
      "\n"
     ]
    }
   ],
   "source": [
    "x = telco.total_charges\n",
    "y = telco.tenure\n",
    "\n",
    "r, p = stats.pearsonr(x, y)\n",
    "r, p\n",
    "\n",
    "print(f''' \n",
    "p ({p}) < alpha ({alpha}), therefor we reject the null hypothesis.\n",
    "''')"
   ]
  },
  {
   "cell_type": "markdown",
   "metadata": {},
   "source": [
    "### What happens if you control for phone and internet service?"
   ]
  },
  {
   "cell_type": "code",
   "execution_count": 14,
   "metadata": {},
   "outputs": [],
   "source": [
    "telco['has_internet'] = telco.internet_service_type_id != 3"
   ]
  },
  {
   "cell_type": "code",
   "execution_count": 15,
   "metadata": {},
   "outputs": [],
   "source": [
    "telco['has_phone'] = telco.phone_service.str.contains('Yes')"
   ]
  },
  {
   "cell_type": "code",
   "execution_count": 16,
   "metadata": {},
   "outputs": [],
   "source": [
    "telco['has_both'] = telco.has_internet & telco.has_phone"
   ]
  },
  {
   "cell_type": "code",
   "execution_count": 17,
   "metadata": {},
   "outputs": [
    {
     "name": "stdout",
     "output_type": "stream",
     "text": [
      " \n",
      "p (1.6186841401711697e-180) < alpha (0.05), therefor we reject the null hypothesis.\n",
      "\n"
     ]
    }
   ],
   "source": [
    "# monthly vs tenure if they have internet\n",
    "x = telco[telco.has_internet]['monthly_charges']\n",
    "y = telco[telco.has_internet]['tenure']\n",
    "\n",
    "r, p = stats.pearsonr(x, y)\n",
    "print(f''' \n",
    "p ({p}) < alpha ({alpha}), therefor we reject the null hypothesis.\n",
    "''')"
   ]
  },
  {
   "cell_type": "code",
   "execution_count": 18,
   "metadata": {},
   "outputs": [
    {
     "name": "stdout",
     "output_type": "stream",
     "text": [
      " \n",
      "p (6.82801603762022e-87) < alpha (0.05), therefor we reject the null hypothesis.\n",
      "\n"
     ]
    }
   ],
   "source": [
    "# monthly vs tenure if they have a phone\n",
    "x = telco[telco.has_phone]['monthly_charges']\n",
    "y = telco[telco.has_phone]['tenure']\n",
    "\n",
    "r, p = stats.pearsonr(x, y)\n",
    "print(f''' \n",
    "p ({p}) < alpha ({alpha}), therefor we reject the null hypothesis.\n",
    "''')"
   ]
  },
  {
   "cell_type": "code",
   "execution_count": 19,
   "metadata": {},
   "outputs": [
    {
     "name": "stdout",
     "output_type": "stream",
     "text": [
      " \n",
      "p (1.9985481080656104e-231) < alpha (0.05), therefor we reject the null hypothesis.\n",
      "\n"
     ]
    }
   ],
   "source": [
    "# monthly vs tenure if they have both a phone and internet service\n",
    "x = telco[telco.has_both]['monthly_charges']\n",
    "y = telco[telco.has_both]['tenure']\n",
    "\n",
    "r, p = stats.pearsonr(x, y)\n",
    "print(f''' \n",
    "p ({p}) < alpha ({alpha}), therefor we reject the null hypothesis.\n",
    "''')"
   ]
  },
  {
   "cell_type": "markdown",
   "metadata": {},
   "source": [
    "## Use the employees database."
   ]
  },
  {
   "cell_type": "code",
   "execution_count": 20,
   "metadata": {},
   "outputs": [],
   "source": [
    "employees_url = env.get_url_for_pancakes('employees')\n",
    "\n",
    "query = '''\n",
    "SELECT emp_no, datediff(curdate(), hire_date) as tenure, salaries.salary\n",
    "FROM employees\n",
    "JOIN salaries using (emp_no)\n",
    "'''\n",
    "\n",
    "employees = pd.read_sql(query, employees_url)"
   ]
  },
  {
   "cell_type": "code",
   "execution_count": 21,
   "metadata": {},
   "outputs": [
    {
     "name": "stdout",
     "output_type": "stream",
     "text": [
      "<class 'pandas.core.frame.DataFrame'>\n",
      "RangeIndex: 2844047 entries, 0 to 2844046\n",
      "Data columns (total 3 columns):\n",
      "emp_no    int64\n",
      "tenure    int64\n",
      "salary    int64\n",
      "dtypes: int64(3)\n",
      "memory usage: 65.1 MB\n"
     ]
    }
   ],
   "source": [
    "employees.info()"
   ]
  },
  {
   "cell_type": "markdown",
   "metadata": {},
   "source": [
    "### Is there a relationship between how long an employee has been with the company and their salary?"
   ]
  },
  {
   "cell_type": "code",
   "execution_count": 22,
   "metadata": {},
   "outputs": [
    {
     "name": "stdout",
     "output_type": "stream",
     "text": [
      "\n",
      "p (0.0) < alpha (0.05), therefore we reject the null hypothesis.\n",
      "\n"
     ]
    }
   ],
   "source": [
    "x = employees.tenure\n",
    "y = employees.salary\n",
    "\n",
    "r, p = stats.pearsonr(x, y)\n",
    "r, p\n",
    "\n",
    "print(f'''\n",
    "p ({p}) < alpha ({alpha}), therefore we reject the null hypothesis.\n",
    "''')"
   ]
  },
  {
   "cell_type": "markdown",
   "metadata": {},
   "source": [
    "### Is there a relationship between how long an employee has been with the company and the number of titles they have had?"
   ]
  },
  {
   "cell_type": "code",
   "execution_count": 23,
   "metadata": {},
   "outputs": [],
   "source": [
    "query = '''\n",
    "SELECT COUNT(title) as title_count, DATEDIFF(CURDATE(), hire_date) as tenure\n",
    "FROM titles\n",
    "LEFT JOIN employees USING(emp_no)\n",
    "GROUP BY emp_no\n",
    "'''\n",
    "\n",
    "titles = pd.read_sql(query, employees_url)"
   ]
  },
  {
   "cell_type": "code",
   "execution_count": 24,
   "metadata": {},
   "outputs": [
    {
     "data": {
      "text/html": [
       "<div>\n",
       "<style scoped>\n",
       "    .dataframe tbody tr th:only-of-type {\n",
       "        vertical-align: middle;\n",
       "    }\n",
       "\n",
       "    .dataframe tbody tr th {\n",
       "        vertical-align: top;\n",
       "    }\n",
       "\n",
       "    .dataframe thead th {\n",
       "        text-align: right;\n",
       "    }\n",
       "</style>\n",
       "<table border=\"1\" class=\"dataframe\">\n",
       "  <thead>\n",
       "    <tr style=\"text-align: right;\">\n",
       "      <th></th>\n",
       "      <th>title_count</th>\n",
       "      <th>tenure</th>\n",
       "    </tr>\n",
       "  </thead>\n",
       "  <tbody>\n",
       "    <tr>\n",
       "      <td>0</td>\n",
       "      <td>1</td>\n",
       "      <td>12327</td>\n",
       "    </tr>\n",
       "    <tr>\n",
       "      <td>1</td>\n",
       "      <td>1</td>\n",
       "      <td>12544</td>\n",
       "    </tr>\n",
       "    <tr>\n",
       "      <td>2</td>\n",
       "      <td>1</td>\n",
       "      <td>12264</td>\n",
       "    </tr>\n",
       "    <tr>\n",
       "      <td>3</td>\n",
       "      <td>2</td>\n",
       "      <td>12169</td>\n",
       "    </tr>\n",
       "    <tr>\n",
       "      <td>4</td>\n",
       "      <td>2</td>\n",
       "      <td>11153</td>\n",
       "    </tr>\n",
       "  </tbody>\n",
       "</table>\n",
       "</div>"
      ],
      "text/plain": [
       "   title_count  tenure\n",
       "0            1   12327\n",
       "1            1   12544\n",
       "2            1   12264\n",
       "3            2   12169\n",
       "4            2   11153"
      ]
     },
     "execution_count": 24,
     "metadata": {},
     "output_type": "execute_result"
    }
   ],
   "source": [
    "titles.head()"
   ]
  },
  {
   "cell_type": "code",
   "execution_count": 25,
   "metadata": {},
   "outputs": [],
   "source": [
    "x = titles.title_count\n",
    "y = titles.tenure"
   ]
  },
  {
   "cell_type": "code",
   "execution_count": 26,
   "metadata": {},
   "outputs": [
    {
     "data": {
      "text/plain": [
       "(0.2665989299136619, 0.0)"
      ]
     },
     "execution_count": 26,
     "metadata": {},
     "output_type": "execute_result"
    }
   ],
   "source": [
    "r, p = stats.pearsonr(x, y)\n",
    "r, p"
   ]
  },
  {
   "cell_type": "code",
   "execution_count": 27,
   "metadata": {},
   "outputs": [
    {
     "name": "stdout",
     "output_type": "stream",
     "text": [
      "\n",
      "p (0.0) < alpha (0.05), therefor we reject the null hypothesis\n",
      "\n"
     ]
    }
   ],
   "source": [
    "print(f'''\n",
    "p ({p}) < alpha ({alpha}), therefor we reject the null hypothesis\n",
    "''')"
   ]
  },
  {
   "cell_type": "markdown",
   "metadata": {},
   "source": [
    "## Use the sleepstudy data. "
   ]
  },
  {
   "cell_type": "markdown",
   "metadata": {},
   "source": [
    "### Is there a relationship between days and reaction time?"
   ]
  },
  {
   "cell_type": "code",
   "execution_count": 28,
   "metadata": {},
   "outputs": [],
   "source": [
    "from pydataset import data"
   ]
  },
  {
   "cell_type": "code",
   "execution_count": 29,
   "metadata": {},
   "outputs": [
    {
     "data": {
      "text/html": [
       "<div>\n",
       "<style scoped>\n",
       "    .dataframe tbody tr th:only-of-type {\n",
       "        vertical-align: middle;\n",
       "    }\n",
       "\n",
       "    .dataframe tbody tr th {\n",
       "        vertical-align: top;\n",
       "    }\n",
       "\n",
       "    .dataframe thead th {\n",
       "        text-align: right;\n",
       "    }\n",
       "</style>\n",
       "<table border=\"1\" class=\"dataframe\">\n",
       "  <thead>\n",
       "    <tr style=\"text-align: right;\">\n",
       "      <th></th>\n",
       "      <th>Reaction</th>\n",
       "      <th>Days</th>\n",
       "      <th>Subject</th>\n",
       "    </tr>\n",
       "  </thead>\n",
       "  <tbody>\n",
       "    <tr>\n",
       "      <td>1</td>\n",
       "      <td>249.5600</td>\n",
       "      <td>0</td>\n",
       "      <td>308</td>\n",
       "    </tr>\n",
       "    <tr>\n",
       "      <td>2</td>\n",
       "      <td>258.7047</td>\n",
       "      <td>1</td>\n",
       "      <td>308</td>\n",
       "    </tr>\n",
       "    <tr>\n",
       "      <td>3</td>\n",
       "      <td>250.8006</td>\n",
       "      <td>2</td>\n",
       "      <td>308</td>\n",
       "    </tr>\n",
       "    <tr>\n",
       "      <td>4</td>\n",
       "      <td>321.4398</td>\n",
       "      <td>3</td>\n",
       "      <td>308</td>\n",
       "    </tr>\n",
       "    <tr>\n",
       "      <td>5</td>\n",
       "      <td>356.8519</td>\n",
       "      <td>4</td>\n",
       "      <td>308</td>\n",
       "    </tr>\n",
       "  </tbody>\n",
       "</table>\n",
       "</div>"
      ],
      "text/plain": [
       "   Reaction  Days  Subject\n",
       "1  249.5600     0      308\n",
       "2  258.7047     1      308\n",
       "3  250.8006     2      308\n",
       "4  321.4398     3      308\n",
       "5  356.8519     4      308"
      ]
     },
     "execution_count": 29,
     "metadata": {},
     "output_type": "execute_result"
    }
   ],
   "source": [
    "sleep_study = data('sleepstudy')\n",
    "sleep_study.head()"
   ]
  },
  {
   "cell_type": "code",
   "execution_count": 30,
   "metadata": {},
   "outputs": [],
   "source": [
    "x = sleep_study.Days\n",
    "y = sleep_study.Reaction"
   ]
  },
  {
   "cell_type": "code",
   "execution_count": 31,
   "metadata": {},
   "outputs": [
    {
     "data": {
      "text/plain": [
       "(0.5352302262650253, 9.894096322214812e-15)"
      ]
     },
     "execution_count": 31,
     "metadata": {},
     "output_type": "execute_result"
    }
   ],
   "source": [
    "r, p = stats.pearsonr(x, y)\n",
    "r, p"
   ]
  },
  {
   "cell_type": "code",
   "execution_count": 32,
   "metadata": {},
   "outputs": [
    {
     "name": "stdout",
     "output_type": "stream",
     "text": [
      "\n",
      "p (9.894096322214812e-15) < alpha (0.05), therefor we reject the null hypothesis. \n",
      "\n"
     ]
    }
   ],
   "source": [
    "print(f'''\n",
    "p ({p}) < alpha ({alpha}), therefor we reject the null hypothesis. \n",
    "''')"
   ]
  },
  {
   "cell_type": "markdown",
   "metadata": {},
   "source": [
    "# Chi Square Testing"
   ]
  },
  {
   "cell_type": "markdown",
   "metadata": {},
   "source": [
    "## Use the following contingency table to help answer the question of whether using a macbook and being a codeup student are independent of each other."
   ]
  },
  {
   "cell_type": "code",
   "execution_count": 42,
   "metadata": {},
   "outputs": [
    {
     "data": {
      "text/html": [
       "<div>\n",
       "<style scoped>\n",
       "    .dataframe tbody tr th:only-of-type {\n",
       "        vertical-align: middle;\n",
       "    }\n",
       "\n",
       "    .dataframe tbody tr th {\n",
       "        vertical-align: top;\n",
       "    }\n",
       "\n",
       "    .dataframe thead th {\n",
       "        text-align: right;\n",
       "    }\n",
       "</style>\n",
       "<table border=\"1\" class=\"dataframe\">\n",
       "  <thead>\n",
       "    <tr style=\"text-align: right;\">\n",
       "      <th></th>\n",
       "      <th>codeup</th>\n",
       "      <th>not_codeup</th>\n",
       "    </tr>\n",
       "  </thead>\n",
       "  <tbody>\n",
       "    <tr>\n",
       "      <td>macbook</td>\n",
       "      <td>49</td>\n",
       "      <td>20</td>\n",
       "    </tr>\n",
       "    <tr>\n",
       "      <td>not_macbook</td>\n",
       "      <td>1</td>\n",
       "      <td>30</td>\n",
       "    </tr>\n",
       "  </tbody>\n",
       "</table>\n",
       "</div>"
      ],
      "text/plain": [
       "             codeup  not_codeup\n",
       "macbook          49          20\n",
       "not_macbook       1          30"
      ]
     },
     "execution_count": 42,
     "metadata": {},
     "output_type": "execute_result"
    }
   ],
   "source": [
    "columns = ['codeup', 'not_codeup']\n",
    "index = ['macbook', 'not_macbook']\n",
    "\n",
    "mac = pd.DataFrame([[49, 20], [1, 30]], index=index, columns=columns)\n",
    "mac"
   ]
  },
  {
   "cell_type": "code",
   "execution_count": 44,
   "metadata": {},
   "outputs": [],
   "source": [
    "chi2, p, degf, expected = stats.chi2_contingency(mac)"
   ]
  },
  {
   "cell_type": "code",
   "execution_count": 47,
   "metadata": {},
   "outputs": [
    {
     "name": "stdout",
     "output_type": "stream",
     "text": [
      "Observed\n",
      "\n",
      "[[49 20]\n",
      " [ 1 30]]\n",
      "---\n",
      "Expected\n",
      "\n",
      "[[34.5 34.5]\n",
      " [15.5 15.5]]\n",
      "---\n",
      "\n",
      "chi^2 = 36.6526\n",
      "p     = 0.0000\n"
     ]
    }
   ],
   "source": [
    "print('Observed\\n')\n",
    "print(mac.values)\n",
    "print('---\\nExpected\\n')\n",
    "print(expected)\n",
    "print('---\\n')\n",
    "print(f'chi^2 = {chi2:.4f}')\n",
    "print(f'p     = {p:.4f}')"
   ]
  },
  {
   "cell_type": "markdown",
   "metadata": {},
   "source": [
    "Due to P value being less than the alpha of 0.05, we fail to reject the null hypothesis that there is no correlation between being a codeup student and owning a mac."
   ]
  },
  {
   "cell_type": "markdown",
   "metadata": {},
   "source": [
    "> Choose another 2 categorical variables from the mpg dataset and perform a \n",
    "c\n",
    "h\n",
    "i\n",
    "2\n",
    " contingency table test with them. Be sure to state your null and alternative hypotheses."
   ]
  },
  {
   "cell_type": "code",
   "execution_count": 50,
   "metadata": {},
   "outputs": [
    {
     "data": {
      "text/html": [
       "<div>\n",
       "<style scoped>\n",
       "    .dataframe tbody tr th:only-of-type {\n",
       "        vertical-align: middle;\n",
       "    }\n",
       "\n",
       "    .dataframe tbody tr th {\n",
       "        vertical-align: top;\n",
       "    }\n",
       "\n",
       "    .dataframe thead th {\n",
       "        text-align: right;\n",
       "    }\n",
       "</style>\n",
       "<table border=\"1\" class=\"dataframe\">\n",
       "  <thead>\n",
       "    <tr style=\"text-align: right;\">\n",
       "      <th></th>\n",
       "      <th>manufacturer</th>\n",
       "      <th>model</th>\n",
       "      <th>displ</th>\n",
       "      <th>year</th>\n",
       "      <th>cyl</th>\n",
       "      <th>trans</th>\n",
       "      <th>drv</th>\n",
       "      <th>cty</th>\n",
       "      <th>hwy</th>\n",
       "      <th>fl</th>\n",
       "      <th>is_compact</th>\n",
       "      <th>avg_mpg</th>\n",
       "      <th>is_auto</th>\n",
       "    </tr>\n",
       "  </thead>\n",
       "  <tbody>\n",
       "    <tr>\n",
       "      <td>1</td>\n",
       "      <td>audi</td>\n",
       "      <td>a4</td>\n",
       "      <td>1.8</td>\n",
       "      <td>1999</td>\n",
       "      <td>4</td>\n",
       "      <td>auto(l5)</td>\n",
       "      <td>f</td>\n",
       "      <td>18</td>\n",
       "      <td>29</td>\n",
       "      <td>p</td>\n",
       "      <td>compact</td>\n",
       "      <td>23.5</td>\n",
       "      <td>True</td>\n",
       "    </tr>\n",
       "  </tbody>\n",
       "</table>\n",
       "</div>"
      ],
      "text/plain": [
       "  manufacturer model  displ  year  cyl     trans drv  cty  hwy fl is_compact  \\\n",
       "1         audi    a4    1.8  1999    4  auto(l5)   f   18   29  p    compact   \n",
       "\n",
       "   avg_mpg  is_auto  \n",
       "1     23.5     True  "
      ]
     },
     "execution_count": 50,
     "metadata": {},
     "output_type": "execute_result"
    }
   ],
   "source": [
    "mpg.head(1)"
   ]
  },
  {
   "cell_type": "markdown",
   "metadata": {},
   "source": [
    "Is there a correlation between type of transmission and manufacturer?\n",
    "\n",
    "$H_0$ - There is no correlation\n",
    "\n",
    "$H_1$ - There is a correlation"
   ]
  },
  {
   "cell_type": "code",
   "execution_count": 57,
   "metadata": {},
   "outputs": [],
   "source": [
    "df = pd.crosstab(mpg.manufacturer, mpg.is_auto)"
   ]
  },
  {
   "cell_type": "code",
   "execution_count": 56,
   "metadata": {},
   "outputs": [],
   "source": [
    "chi2, p, degf, expected = stats.chi2_contingency(df)"
   ]
  },
  {
   "cell_type": "code",
   "execution_count": 58,
   "metadata": {},
   "outputs": [
    {
     "name": "stdout",
     "output_type": "stream",
     "text": [
      "Observed\n",
      "\n",
      "[[49 20]\n",
      " [ 1 30]]\n",
      "---\n",
      "Expected\n",
      "\n",
      "[[ 5.92307692 12.07692308]\n",
      " [ 6.25213675 12.74786325]\n",
      " [12.17521368 24.82478632]\n",
      " [ 8.22649573 16.77350427]\n",
      " [ 2.96153846  6.03846154]\n",
      " [ 4.60683761  9.39316239]\n",
      " [ 2.63247863  5.36752137]\n",
      " [ 1.31623932  2.68376068]\n",
      " [ 0.98717949  2.01282051]\n",
      " [ 1.31623932  2.68376068]\n",
      " [ 4.27777778  8.72222222]\n",
      " [ 1.64529915  3.35470085]\n",
      " [ 4.60683761  9.39316239]\n",
      " [11.18803419 22.81196581]\n",
      " [ 8.88461538 18.11538462]]\n",
      "---\n",
      "\n",
      "chi^2 = 29.2937\n",
      "p     = 0.0095\n"
     ]
    }
   ],
   "source": [
    "print('Observed\\n')\n",
    "print(mac.values)\n",
    "print('---\\nExpected\\n')\n",
    "print(expected)\n",
    "print('---\\n')\n",
    "print(f'chi^2 = {chi2:.4f}')\n",
    "print(f'p     = {p:.4f}')"
   ]
  },
  {
   "cell_type": "markdown",
   "metadata": {},
   "source": [
    "## Use the data from the employees database to answer these questions:"
   ]
  },
  {
   "cell_type": "code",
   "execution_count": 94,
   "metadata": {},
   "outputs": [
    {
     "data": {
      "text/plain": [
       "Sales        37701\n",
       "Marketing    14842\n",
       "Name: dept_name, dtype: int64"
      ]
     },
     "execution_count": 94,
     "metadata": {},
     "output_type": "execute_result"
    }
   ],
   "source": [
    "query = \"\"\"\n",
    "SELECT e.gender, d.dept_name\n",
    "FROM employees AS e\n",
    "JOIN dept_emp as de USING(emp_no)\n",
    "JOIN departments as d USING(dept_no)\n",
    "WHERE de.to_date > NOW()\n",
    "    AND d.dept_name IN (\"Sales\", \"Marketing\")\n",
    "\"\"\"\n",
    "\n",
    "url = env.get_url_for_pancakes('employees')\n",
    "\n",
    "emp = pd.read_sql(query, url)\n",
    "emp.dept_name.value_counts()"
   ]
  },
  {
   "cell_type": "code",
   "execution_count": 95,
   "metadata": {},
   "outputs": [
    {
     "data": {
      "text/html": [
       "<div>\n",
       "<style scoped>\n",
       "    .dataframe tbody tr th:only-of-type {\n",
       "        vertical-align: middle;\n",
       "    }\n",
       "\n",
       "    .dataframe tbody tr th {\n",
       "        vertical-align: top;\n",
       "    }\n",
       "\n",
       "    .dataframe thead th {\n",
       "        text-align: right;\n",
       "    }\n",
       "</style>\n",
       "<table border=\"1\" class=\"dataframe\">\n",
       "  <thead>\n",
       "    <tr style=\"text-align: right;\">\n",
       "      <th>dept_name</th>\n",
       "      <th>Marketing</th>\n",
       "      <th>Sales</th>\n",
       "    </tr>\n",
       "    <tr>\n",
       "      <th>gender</th>\n",
       "      <th></th>\n",
       "      <th></th>\n",
       "    </tr>\n",
       "  </thead>\n",
       "  <tbody>\n",
       "    <tr>\n",
       "      <td>F</td>\n",
       "      <td>5864</td>\n",
       "      <td>14999</td>\n",
       "    </tr>\n",
       "    <tr>\n",
       "      <td>M</td>\n",
       "      <td>8978</td>\n",
       "      <td>22702</td>\n",
       "    </tr>\n",
       "  </tbody>\n",
       "</table>\n",
       "</div>"
      ],
      "text/plain": [
       "dept_name  Marketing  Sales\n",
       "gender                     \n",
       "F               5864  14999\n",
       "M               8978  22702"
      ]
     },
     "execution_count": 95,
     "metadata": {},
     "output_type": "execute_result"
    }
   ],
   "source": [
    "df = pd.crosstab(emp.gender, emp.dept_name)\n",
    "df.head()"
   ]
  },
  {
   "cell_type": "markdown",
   "metadata": {},
   "source": [
    "Is an employee's gender independent of whether an employee works in sales or marketing? (only look at current employees)"
   ]
  },
  {
   "cell_type": "code",
   "execution_count": 96,
   "metadata": {},
   "outputs": [],
   "source": [
    "chi2_stat, p, degf, expected = stats.chi2_contingency(df)"
   ]
  },
  {
   "cell_type": "code",
   "execution_count": 97,
   "metadata": {},
   "outputs": [
    {
     "name": "stdout",
     "output_type": "stream",
     "text": [
      "Observed\n",
      "\n",
      "[[49 20]\n",
      " [ 1 30]]\n",
      "---\n",
      "Expected\n",
      "\n",
      "[[ 5893.2426013 14969.7573987]\n",
      " [ 8948.7573987 22731.2426013]]\n",
      "---\n",
      "\n",
      "chi^2 = 29.2937\n",
      "p     = 0.5692\n"
     ]
    }
   ],
   "source": [
    "print('Observed\\n')\n",
    "print(mac.values)\n",
    "print('---\\nExpected\\n')\n",
    "print(expected)\n",
    "print('---\\n')\n",
    "print(f'chi^2 = {chi2:.4f}')\n",
    "print(f'p     = {p:.4f}')"
   ]
  },
  {
   "cell_type": "markdown",
   "metadata": {},
   "source": [
    "Is an employee's gender independent of whether or not they are or have been a manager?"
   ]
  },
  {
   "cell_type": "code",
   "execution_count": 130,
   "metadata": {},
   "outputs": [
    {
     "data": {
      "text/html": [
       "<div>\n",
       "<style scoped>\n",
       "    .dataframe tbody tr th:only-of-type {\n",
       "        vertical-align: middle;\n",
       "    }\n",
       "\n",
       "    .dataframe tbody tr th {\n",
       "        vertical-align: top;\n",
       "    }\n",
       "\n",
       "    .dataframe thead th {\n",
       "        text-align: right;\n",
       "    }\n",
       "</style>\n",
       "<table border=\"1\" class=\"dataframe\">\n",
       "  <thead>\n",
       "    <tr style=\"text-align: right;\">\n",
       "      <th></th>\n",
       "      <th>emp_no</th>\n",
       "      <th>gender</th>\n",
       "    </tr>\n",
       "  </thead>\n",
       "  <tbody>\n",
       "    <tr>\n",
       "      <td>0</td>\n",
       "      <td>10001</td>\n",
       "      <td>M</td>\n",
       "    </tr>\n",
       "    <tr>\n",
       "      <td>1</td>\n",
       "      <td>10002</td>\n",
       "      <td>F</td>\n",
       "    </tr>\n",
       "    <tr>\n",
       "      <td>2</td>\n",
       "      <td>10003</td>\n",
       "      <td>M</td>\n",
       "    </tr>\n",
       "    <tr>\n",
       "      <td>3</td>\n",
       "      <td>10004</td>\n",
       "      <td>M</td>\n",
       "    </tr>\n",
       "    <tr>\n",
       "      <td>4</td>\n",
       "      <td>10005</td>\n",
       "      <td>M</td>\n",
       "    </tr>\n",
       "  </tbody>\n",
       "</table>\n",
       "</div>"
      ],
      "text/plain": [
       "   emp_no gender\n",
       "0   10001      M\n",
       "1   10002      F\n",
       "2   10003      M\n",
       "3   10004      M\n",
       "4   10005      M"
      ]
     },
     "execution_count": 130,
     "metadata": {},
     "output_type": "execute_result"
    }
   ],
   "source": [
    "query = \"\"\"\n",
    "SELECT emp_no, gender\n",
    "FROM employees\n",
    "\"\"\"\n",
    "\n",
    "url = env.get_url_for_pancakes('employees')\n",
    "\n",
    "e = pd.read_sql(query, url)\n",
    "e.head()"
   ]
  },
  {
   "cell_type": "code",
   "execution_count": 131,
   "metadata": {},
   "outputs": [
    {
     "data": {
      "text/html": [
       "<div>\n",
       "<style scoped>\n",
       "    .dataframe tbody tr th:only-of-type {\n",
       "        vertical-align: middle;\n",
       "    }\n",
       "\n",
       "    .dataframe tbody tr th {\n",
       "        vertical-align: top;\n",
       "    }\n",
       "\n",
       "    .dataframe thead th {\n",
       "        text-align: right;\n",
       "    }\n",
       "</style>\n",
       "<table border=\"1\" class=\"dataframe\">\n",
       "  <thead>\n",
       "    <tr style=\"text-align: right;\">\n",
       "      <th></th>\n",
       "      <th>emp_no</th>\n",
       "    </tr>\n",
       "  </thead>\n",
       "  <tbody>\n",
       "    <tr>\n",
       "      <td>0</td>\n",
       "      <td>110022</td>\n",
       "    </tr>\n",
       "    <tr>\n",
       "      <td>1</td>\n",
       "      <td>110039</td>\n",
       "    </tr>\n",
       "    <tr>\n",
       "      <td>2</td>\n",
       "      <td>110085</td>\n",
       "    </tr>\n",
       "    <tr>\n",
       "      <td>3</td>\n",
       "      <td>110114</td>\n",
       "    </tr>\n",
       "    <tr>\n",
       "      <td>4</td>\n",
       "      <td>110183</td>\n",
       "    </tr>\n",
       "  </tbody>\n",
       "</table>\n",
       "</div>"
      ],
      "text/plain": [
       "   emp_no\n",
       "0  110022\n",
       "1  110039\n",
       "2  110085\n",
       "3  110114\n",
       "4  110183"
      ]
     },
     "execution_count": 131,
     "metadata": {},
     "output_type": "execute_result"
    }
   ],
   "source": [
    "query = '''\n",
    "SELECT emp_no\n",
    "FROM dept_manager\n",
    "'''\n",
    "\n",
    "url = env.get_url_for_pancakes('employees')\n",
    "\n",
    "dept_man = pd.read_sql(query, url)\n",
    "dept_man.head()"
   ]
  },
  {
   "cell_type": "code",
   "execution_count": 132,
   "metadata": {},
   "outputs": [
    {
     "data": {
      "text/plain": [
       "False    300000\n",
       "True         24\n",
       "Name: manager, dtype: int64"
      ]
     },
     "execution_count": 132,
     "metadata": {},
     "output_type": "execute_result"
    }
   ],
   "source": [
    "e['manager'] = e.emp_no.isin(dept_man.emp_no)\n",
    "e.manager.value_counts()"
   ]
  },
  {
   "cell_type": "code",
   "execution_count": 134,
   "metadata": {},
   "outputs": [
    {
     "data": {
      "text/html": [
       "<div>\n",
       "<style scoped>\n",
       "    .dataframe tbody tr th:only-of-type {\n",
       "        vertical-align: middle;\n",
       "    }\n",
       "\n",
       "    .dataframe tbody tr th {\n",
       "        vertical-align: top;\n",
       "    }\n",
       "\n",
       "    .dataframe thead th {\n",
       "        text-align: right;\n",
       "    }\n",
       "</style>\n",
       "<table border=\"1\" class=\"dataframe\">\n",
       "  <thead>\n",
       "    <tr style=\"text-align: right;\">\n",
       "      <th>manager</th>\n",
       "      <th>False</th>\n",
       "      <th>True</th>\n",
       "    </tr>\n",
       "    <tr>\n",
       "      <th>gender</th>\n",
       "      <th></th>\n",
       "      <th></th>\n",
       "    </tr>\n",
       "  </thead>\n",
       "  <tbody>\n",
       "    <tr>\n",
       "      <td>F</td>\n",
       "      <td>120038</td>\n",
       "      <td>13</td>\n",
       "    </tr>\n",
       "    <tr>\n",
       "      <td>M</td>\n",
       "      <td>179962</td>\n",
       "      <td>11</td>\n",
       "    </tr>\n",
       "  </tbody>\n",
       "</table>\n",
       "</div>"
      ],
      "text/plain": [
       "manager   False  True \n",
       "gender                \n",
       "F        120038     13\n",
       "M        179962     11"
      ]
     },
     "execution_count": 134,
     "metadata": {},
     "output_type": "execute_result"
    }
   ],
   "source": [
    "has_been_manager = pd.crosstab(e.gender, e.manager)\n",
    "has_been_manager"
   ]
  },
  {
   "cell_type": "code",
   "execution_count": 137,
   "metadata": {},
   "outputs": [],
   "source": [
    "chi2_stat, p, degf, expected = stats.chi2_contingency(has_been_manager)"
   ]
  },
  {
   "cell_type": "code",
   "execution_count": 138,
   "metadata": {},
   "outputs": [
    {
     "name": "stdout",
     "output_type": "stream",
     "text": [
      "Observed\n",
      "\n",
      "[[49 20]\n",
      " [ 1 30]]\n",
      "---\n",
      "Expected\n",
      "\n",
      "[[1.20041397e+05 9.60331174e+00]\n",
      " [1.79958603e+05 1.43966883e+01]]\n",
      "---\n",
      "\n",
      "chi^2 = 29.2937\n",
      "p     = 0.2275\n"
     ]
    }
   ],
   "source": [
    "print('Observed\\n')\n",
    "print(mac.values)\n",
    "print('---\\nExpected\\n')\n",
    "print(expected)\n",
    "print('---\\n')\n",
    "print(f'chi^2 = {chi2:.4f}')\n",
    "print(f'p     = {p:.4f}')"
   ]
  }
 ],
 "metadata": {
  "kernelspec": {
   "display_name": "Python 3",
   "language": "python",
   "name": "python3"
  },
  "language_info": {
   "codemirror_mode": {
    "name": "ipython",
    "version": 3
   },
   "file_extension": ".py",
   "mimetype": "text/x-python",
   "name": "python",
   "nbconvert_exporter": "python",
   "pygments_lexer": "ipython3",
   "version": "3.7.4"
  },
  "toc": {
   "base_numbering": 1,
   "nav_menu": {},
   "number_sections": true,
   "sideBar": true,
   "skip_h1_title": false,
   "title_cell": "Table of Contents",
   "title_sidebar": "Contents",
   "toc_cell": true,
   "toc_position": {
    "height": "calc(100% - 180px)",
    "left": "10px",
    "top": "150px",
    "width": "320px"
   },
   "toc_section_display": true,
   "toc_window_display": false
  }
 },
 "nbformat": 4,
 "nbformat_minor": 2
}
