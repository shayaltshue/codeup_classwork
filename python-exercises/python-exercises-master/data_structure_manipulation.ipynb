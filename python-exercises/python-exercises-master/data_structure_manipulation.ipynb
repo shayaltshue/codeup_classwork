{
 "cells": [
  {
   "cell_type": "code",
   "execution_count": 2,
   "metadata": {},
   "outputs": [],
   "source": [
    "students = [\n",
    "    {\n",
    "        \"id\": \"100001\",\n",
    "        \"student\": \"Ada Lovelace\",\n",
    "        \"coffee_preference\": \"light\",\n",
    "        \"course\": \"web development\",\n",
    "        \"grades\": [70, 91, 82, 71],\n",
    "        \"pets\": [{\"species\": \"horse\", \"age\": 8}],\n",
    "    },\n",
    "    {\n",
    "        \"id\": \"100002\",\n",
    "        \"student\": \"Thomas Bayes\",\n",
    "        \"coffee_preference\": \"medium\",\n",
    "        \"course\": \"data science\",\n",
    "        \"grades\": [75, 73, 86, 100],\n",
    "        \"pets\": [],\n",
    "    },\n",
    "    {\n",
    "        \"id\": \"100003\",\n",
    "        \"student\": \"Marie Curie\",\n",
    "        \"coffee_preference\": \"light\",\n",
    "        \"course\": \"web development\",\n",
    "        \"grades\": [70, 89, 69, 65],\n",
    "        \"pets\": [{\"species\": \"cat\", \"age\": 0}],\n",
    "    },\n",
    "    {\n",
    "        \"id\": \"100004\",\n",
    "        \"student\": \"Grace Hopper\",\n",
    "        \"coffee_preference\": \"dark\",\n",
    "        \"course\": \"data science\",\n",
    "        \"grades\": [73, 66, 83, 92],\n",
    "        \"pets\": [{\"species\": \"dog\", \"age\": 4}, {\"species\": \"cat\", \"age\": 4}],\n",
    "    },\n",
    "    {\n",
    "        \"id\": \"100005\",\n",
    "        \"student\": \"Alan Turing\",\n",
    "        \"coffee_preference\": \"dark\",\n",
    "        \"course\": \"web development\",\n",
    "        \"grades\": [78, 98, 85, 65],\n",
    "        \"pets\": [\n",
    "            {\"species\": \"horse\", \"age\": 6},\n",
    "            {\"species\": \"horse\", \"age\": 7},\n",
    "            {\"species\": \"dog\", \"age\": 5},\n",
    "        ],\n",
    "    },\n",
    "    {\n",
    "        \"id\": \"100006\",\n",
    "        \"student\": \"Rosalind Franklin\",\n",
    "        \"coffee_preference\": \"dark\",\n",
    "        \"course\": \"data science\",\n",
    "        \"grades\": [76, 70, 96, 81],\n",
    "        \"pets\": [],\n",
    "    },\n",
    "    {\n",
    "        \"id\": \"100007\",\n",
    "        \"student\": \"Elizabeth Blackwell\",\n",
    "        \"coffee_preference\": \"dark\",\n",
    "        \"course\": \"web development\",\n",
    "        \"grades\": [69, 94, 89, 86],\n",
    "        \"pets\": [{\"species\": \"cat\", \"age\": 10}],\n",
    "    },\n",
    "    {\n",
    "        \"id\": \"100008\",\n",
    "        \"student\": \"Rene Descartes\",\n",
    "        \"coffee_preference\": \"medium\",\n",
    "        \"course\": \"data science\",\n",
    "        \"grades\": [87, 79, 90, 99],\n",
    "        \"pets\": [{\"species\": \"cat\", \"age\": 10}, {\"species\": \"cat\", \"age\": 8}],\n",
    "    },\n",
    "    {\n",
    "        \"id\": \"100009\",\n",
    "        \"student\": \"Ahmed Zewail\",\n",
    "        \"coffee_preference\": \"medium\",\n",
    "        \"course\": \"data science\",\n",
    "        \"grades\": [74, 99, 93, 89],\n",
    "        \"pets\": [{\"species\": \"cat\", \"age\": 0}, {\"species\": \"cat\", \"age\": 0}],\n",
    "    },\n",
    "    {\n",
    "        \"id\": \"100010\",\n",
    "        \"student\": \"Chien-Shiung Wu\",\n",
    "        \"coffee_preference\": \"medium\",\n",
    "        \"course\": \"web development\",\n",
    "        \"grades\": [82, 92, 91, 65],\n",
    "        \"pets\": [{\"species\": \"cat\", \"age\": 8}],\n",
    "    },\n",
    "    {\n",
    "        \"id\": \"100011\",\n",
    "        \"student\": \"William Sanford Nye\",\n",
    "        \"coffee_preference\": \"dark\",\n",
    "        \"course\": \"data science\",\n",
    "        \"grades\": [70, 92, 65, 99],\n",
    "        \"pets\": [{\"species\": \"cat\", \"age\": 8}, {\"species\": \"cat\", \"age\": 5}],\n",
    "    },\n",
    "    {\n",
    "        \"id\": \"100012\",\n",
    "        \"student\": \"Carl Sagan\",\n",
    "        \"coffee_preference\": \"medium\",\n",
    "        \"course\": \"data science\",\n",
    "        \"grades\": [100, 86, 91, 87],\n",
    "        \"pets\": [{\"species\": \"cat\", \"age\": 10}],\n",
    "    },\n",
    "    {\n",
    "        \"id\": \"100013\",\n",
    "        \"student\": \"Jane Goodall\",\n",
    "        \"coffee_preference\": \"light\",\n",
    "        \"course\": \"web development\",\n",
    "        \"grades\": [80, 70, 68, 98],\n",
    "        \"pets\": [{\"species\": \"horse\", \"age\": 4}],\n",
    "    },\n",
    "    {\n",
    "        \"id\": \"100014\",\n",
    "        \"student\": \"Richard Feynman\",\n",
    "        \"coffee_preference\": \"medium\",\n",
    "        \"course\": \"web development\",\n",
    "        \"grades\": [73, 99, 86, 98],\n",
    "        \"pets\": [{\"species\": \"dog\", \"age\": 6}],\n",
    "    },\n",
    "]"
   ]
  },
  {
   "cell_type": "code",
   "execution_count": 3,
   "metadata": {},
   "outputs": [
    {
     "data": {
      "text/plain": [
       "14"
      ]
     },
     "execution_count": 3,
     "metadata": {},
     "output_type": "execute_result"
    }
   ],
   "source": [
    "# 1. How many students are there?\n",
    "len(students)"
   ]
  },
  {
   "cell_type": "code",
   "execution_count": 4,
   "metadata": {},
   "outputs": [
    {
     "data": {
      "text/plain": [
       "6"
      ]
     },
     "execution_count": 4,
     "metadata": {},
     "output_type": "execute_result"
    }
   ],
   "source": [
    "# 2. How many students prefer light coffee? For each type of coffee roast?\n",
    "len([student for student in students if student['coffee_preference'] == 'light'])\n",
    "len([student for student in students if student['coffee_preference'] == 'dark'])\n",
    "len([student for student in students if student['coffee_preference'] == 'medium'])"
   ]
  },
  {
   "cell_type": "code",
   "execution_count": 5,
   "metadata": {},
   "outputs": [
    {
     "data": {
      "text/plain": [
       "[set(),\n",
       " set(),\n",
       " set(),\n",
       " set(),\n",
       " set(),\n",
       " set(),\n",
       " set(),\n",
       " set(),\n",
       " set(),\n",
       " set(),\n",
       " set(),\n",
       " set(),\n",
       " set(),\n",
       " set(),\n",
       " set(),\n",
       " set(),\n",
       " set(),\n",
       " set()]"
      ]
     },
     "execution_count": 5,
     "metadata": {},
     "output_type": "execute_result"
    }
   ],
   "source": [
    "# 3. How many types of each pet are there?\n",
    "species = []\n",
    "for student in students:\n",
    "    for pet in student['pets']:\n",
    "        species.append(set())\n",
    "        \n",
    "species"
   ]
  },
  {
   "cell_type": "code",
   "execution_count": 6,
   "metadata": {},
   "outputs": [
    {
     "data": {
      "text/plain": [
       "[4, 4, 4, 4, 4, 4, 4, 4, 4, 4, 4, 4, 4, 4]"
      ]
     },
     "execution_count": 6,
     "metadata": {},
     "output_type": "execute_result"
    }
   ],
   "source": [
    "# 4. How many grades does each student have? Do they all have the same number of grades?\n",
    "[len(student['grades']) for student in students]"
   ]
  },
  {
   "cell_type": "code",
   "execution_count": 7,
   "metadata": {},
   "outputs": [
    {
     "data": {
      "text/plain": [
       "[78.5,\n",
       " 78.5,\n",
       " 78.5,\n",
       " 78.5,\n",
       " 78.5,\n",
       " 78.5,\n",
       " 78.5,\n",
       " 78.5,\n",
       " 78.5,\n",
       " 78.5,\n",
       " 78.5,\n",
       " 78.5,\n",
       " 78.5,\n",
       " 78.5,\n",
       " 83.5,\n",
       " 83.5,\n",
       " 83.5,\n",
       " 83.5,\n",
       " 83.5,\n",
       " 83.5,\n",
       " 83.5,\n",
       " 83.5,\n",
       " 83.5,\n",
       " 83.5,\n",
       " 83.5,\n",
       " 83.5,\n",
       " 83.5,\n",
       " 83.5,\n",
       " 73.25,\n",
       " 73.25,\n",
       " 73.25,\n",
       " 73.25,\n",
       " 73.25,\n",
       " 73.25,\n",
       " 73.25,\n",
       " 73.25,\n",
       " 73.25,\n",
       " 73.25,\n",
       " 73.25,\n",
       " 73.25,\n",
       " 73.25,\n",
       " 73.25,\n",
       " 78.5,\n",
       " 78.5,\n",
       " 78.5,\n",
       " 78.5,\n",
       " 78.5,\n",
       " 78.5,\n",
       " 78.5,\n",
       " 78.5,\n",
       " 78.5,\n",
       " 78.5,\n",
       " 78.5,\n",
       " 78.5,\n",
       " 78.5,\n",
       " 78.5,\n",
       " 81.5,\n",
       " 81.5,\n",
       " 81.5,\n",
       " 81.5,\n",
       " 81.5,\n",
       " 81.5,\n",
       " 81.5,\n",
       " 81.5,\n",
       " 81.5,\n",
       " 81.5,\n",
       " 81.5,\n",
       " 81.5,\n",
       " 81.5,\n",
       " 81.5,\n",
       " 80.75,\n",
       " 80.75,\n",
       " 80.75,\n",
       " 80.75,\n",
       " 80.75,\n",
       " 80.75,\n",
       " 80.75,\n",
       " 80.75,\n",
       " 80.75,\n",
       " 80.75,\n",
       " 80.75,\n",
       " 80.75,\n",
       " 80.75,\n",
       " 80.75,\n",
       " 84.5,\n",
       " 84.5,\n",
       " 84.5,\n",
       " 84.5,\n",
       " 84.5,\n",
       " 84.5,\n",
       " 84.5,\n",
       " 84.5,\n",
       " 84.5,\n",
       " 84.5,\n",
       " 84.5,\n",
       " 84.5,\n",
       " 84.5,\n",
       " 84.5,\n",
       " 88.75,\n",
       " 88.75,\n",
       " 88.75,\n",
       " 88.75,\n",
       " 88.75,\n",
       " 88.75,\n",
       " 88.75,\n",
       " 88.75,\n",
       " 88.75,\n",
       " 88.75,\n",
       " 88.75,\n",
       " 88.75,\n",
       " 88.75,\n",
       " 88.75,\n",
       " 88.75,\n",
       " 88.75,\n",
       " 88.75,\n",
       " 88.75,\n",
       " 88.75,\n",
       " 88.75,\n",
       " 88.75,\n",
       " 88.75,\n",
       " 88.75,\n",
       " 88.75,\n",
       " 88.75,\n",
       " 88.75,\n",
       " 88.75,\n",
       " 88.75,\n",
       " 82.5,\n",
       " 82.5,\n",
       " 82.5,\n",
       " 82.5,\n",
       " 82.5,\n",
       " 82.5,\n",
       " 82.5,\n",
       " 82.5,\n",
       " 82.5,\n",
       " 82.5,\n",
       " 82.5,\n",
       " 82.5,\n",
       " 82.5,\n",
       " 82.5,\n",
       " 81.5,\n",
       " 81.5,\n",
       " 81.5,\n",
       " 81.5,\n",
       " 81.5,\n",
       " 81.5,\n",
       " 81.5,\n",
       " 81.5,\n",
       " 81.5,\n",
       " 81.5,\n",
       " 81.5,\n",
       " 81.5,\n",
       " 81.5,\n",
       " 81.5,\n",
       " 91.0,\n",
       " 91.0,\n",
       " 91.0,\n",
       " 91.0,\n",
       " 91.0,\n",
       " 91.0,\n",
       " 91.0,\n",
       " 91.0,\n",
       " 91.0,\n",
       " 91.0,\n",
       " 91.0,\n",
       " 91.0,\n",
       " 91.0,\n",
       " 91.0,\n",
       " 79.0,\n",
       " 79.0,\n",
       " 79.0,\n",
       " 79.0,\n",
       " 79.0,\n",
       " 79.0,\n",
       " 79.0,\n",
       " 79.0,\n",
       " 79.0,\n",
       " 79.0,\n",
       " 79.0,\n",
       " 79.0,\n",
       " 79.0,\n",
       " 79.0,\n",
       " 89.0,\n",
       " 89.0,\n",
       " 89.0,\n",
       " 89.0,\n",
       " 89.0,\n",
       " 89.0,\n",
       " 89.0,\n",
       " 89.0,\n",
       " 89.0,\n",
       " 89.0,\n",
       " 89.0,\n",
       " 89.0,\n",
       " 89.0,\n",
       " 89.0]"
      ]
     },
     "execution_count": 7,
     "metadata": {},
     "output_type": "execute_result"
    }
   ],
   "source": [
    "# What is each student's grade average?\n",
    "total_grades = [sum(student['grades'])for student in students]\n",
    "len_grades = [len(student['grades'])for student in students]\n",
    "avg_grades = []\n",
    "for sum_grade in total_grades:\n",
    "    for length in len_grades:\n",
    "        avg_grades.append(sum_grade / length)\n",
    "avg_grades"
   ]
  },
  {
   "cell_type": "code",
   "execution_count": 8,
   "metadata": {},
   "outputs": [
    {
     "data": {
      "text/plain": [
       "[1, 0, 1, 2, 3, 0, 1, 2, 2, 1, 2, 1, 1, 1]"
      ]
     },
     "execution_count": 8,
     "metadata": {},
     "output_type": "execute_result"
    }
   ],
   "source": [
    "# How many pets does each student have?\n",
    "[len(student['pets']) for student in students]"
   ]
  },
  {
   "cell_type": "code",
   "execution_count": 9,
   "metadata": {},
   "outputs": [
    {
     "data": {
      "text/plain": [
       "7"
      ]
     },
     "execution_count": 9,
     "metadata": {},
     "output_type": "execute_result"
    }
   ],
   "source": [
    "# How many students are in web development? data science?\n",
    "len([student for student in students if student['course'] == 'data science'])\n",
    "len([student for student in students if student['course'] == 'web development'])"
   ]
  },
  {
   "cell_type": "code",
   "execution_count": 10,
   "metadata": {},
   "outputs": [
    {
     "data": {
      "text/plain": [
       "1.2857142857142858"
      ]
     },
     "execution_count": 10,
     "metadata": {},
     "output_type": "execute_result"
    }
   ],
   "source": [
    "# What is the average number of pets for students in web development?\n",
    "web_dev_students = [student for student in students if student['course'] == 'web development']\n",
    "total_pets = sum([len(student['pets']) for student in web_dev_students])\n",
    "length_pets = len([student['pets'] for student in web_dev_students])\n",
    "avg_pets = total_pets / length_pets\n",
    "avg_pets"
   ]
  },
  {
   "cell_type": "code",
   "execution_count": 11,
   "metadata": {},
   "outputs": [
    {
     "data": {
      "text/plain": [
       "5.444444444444445"
      ]
     },
     "execution_count": 11,
     "metadata": {},
     "output_type": "execute_result"
    }
   ],
   "source": [
    "# What is the average pet age for students in data science?\n",
    "data_science_students = [student for student in students if student['course'] == 'data science']\n",
    "ds_students_pets = [student['pets'] for student in data_science_students if student['pets'] != []]\n",
    "ds_students_pets = sum(ds_students_pets, [])\n",
    "total_pet_age = sum([pet['age'] for pet in ds_students_pets])\n",
    "length_pet_age = len([pet for pet in ds_students_pets])\n",
    "avg_ds_pet_age = total_pet_age / length_pet_age\n",
    "avg_ds_pet_age"
   ]
  },
  {
   "cell_type": "code",
   "execution_count": 45,
   "metadata": {},
   "outputs": [
    {
     "data": {
      "text/plain": [
       "'medium'"
      ]
     },
     "execution_count": 45,
     "metadata": {},
     "output_type": "execute_result"
    }
   ],
   "source": [
    "# What is most frequent coffee preference for data science students?\n",
    "from collections import Counter\n",
    "\n",
    "ds_cofee_prefs = [student['coffee_preference'] for student in data_science_students]\n",
    "ds_cofee_prefs\n",
    "num_prefs = Counter()\n",
    "\n",
    "for preference in ds_cofee_prefs:\n",
    "    num_prefs[preference] += 1\n",
    "max(num_prefs)"
   ]
  },
  {
   "cell_type": "code",
   "execution_count": 46,
   "metadata": {},
   "outputs": [
    {
     "data": {
      "text/plain": [
       "'dark'"
      ]
     },
     "execution_count": 46,
     "metadata": {},
     "output_type": "execute_result"
    }
   ],
   "source": [
    "# What is the least frequent coffee preference for web development students?\n",
    "wd_cofee_prefs = [student['coffee_preference'] for student in web_dev_students]\n",
    "wd_cofee_prefs\n",
    "num_prefs = Counter()\n",
    "\n",
    "for preference in wd_cofee_prefs:\n",
    "    num_prefs[preference] += 1\n",
    "min(num_prefs)"
   ]
  },
  {
   "cell_type": "code",
   "execution_count": 65,
   "metadata": {},
   "outputs": [
    {
     "data": {
      "text/plain": [
       "83.8"
      ]
     },
     "execution_count": 65,
     "metadata": {},
     "output_type": "execute_result"
    }
   ],
   "source": [
    "# What is the average grade for students with at least 2 pets?\n",
    "students_with_at_least_two_pets = [student for student in students if len(student['pets']) >= 2]\n",
    "all_grades = [student['grades'] for student in students_with_at_least_two_pets]\n",
    "all_grades = sum(all_grades, [])\n",
    "sum_of_grades = sum(all_grades)\n",
    "num_of_grades = len(all_grades)\n",
    "avg_grade = sum_of_grades / num_of_grades\n",
    "avg_grade\n",
    "# sum(students_with_at_least_two_pets['grades'])"
   ]
  },
  {
   "cell_type": "code",
   "execution_count": 67,
   "metadata": {},
   "outputs": [
    {
     "data": {
      "text/plain": [
       "1"
      ]
     },
     "execution_count": 67,
     "metadata": {},
     "output_type": "execute_result"
    }
   ],
   "source": [
    "# How many students have 3 pets?\n",
    "len([student for student in students if len(student['pets']) == 3])"
   ]
  },
  {
   "cell_type": "code",
   "execution_count": 72,
   "metadata": {},
   "outputs": [
    {
     "data": {
      "text/plain": [
       "82.125"
      ]
     },
     "execution_count": 72,
     "metadata": {},
     "output_type": "execute_result"
    }
   ],
   "source": [
    "# What is the average grade for students with 0 pets?\n",
    "students_with_zero_pets = [student for student in students if len(student['pets']) == 0]\n",
    "grades_of_students_with_zero_pets = [student['grades'] for student in students_with_zero_pets]\n",
    "grades_of_students_with_zero_pets = sum(grades_of_students_with_zero_pets, [])\n",
    "total_grade_of_students_with_zero_pets = sum(grades_of_students_with_zero_pets)\n",
    "num_of_grade_of_students_with_zero_pets = len(grades_of_students_with_zero_pets)\n",
    "avg_grade_of_students_with_zero_pets = total_grade_of_students_with_zero_pets / num_of_grade_of_students_with_zero_pets\n",
    "avg_grade_of_students_with_zero_pets"
   ]
  },
  {
   "cell_type": "code",
   "execution_count": 76,
   "metadata": {},
   "outputs": [
    {
     "data": {
      "text/plain": [
       "81.17857142857143"
      ]
     },
     "execution_count": 76,
     "metadata": {},
     "output_type": "execute_result"
    }
   ],
   "source": [
    "# What is the average grade for web development students? \n",
    "grades_of_wd_students = [student['grades'] for student in web_dev_students]\n",
    "grades_of_wd_students = sum(grades_of_wd_students, [])\n",
    "total_of_grades_of_wd_students = sum(grades_of_wd_students)\n",
    "num_of_grades_of_wd_students = len(grades_of_wd_students)\n",
    "avg_grade_of_wd_students = total_of_grades_of_wd_students / num_of_grades_of_wd_students\n",
    "avg_grade_of_wd_students"
   ]
  },
  {
   "cell_type": "code",
   "execution_count": 77,
   "metadata": {},
   "outputs": [
    {
     "data": {
      "text/plain": [
       "84.67857142857143"
      ]
     },
     "execution_count": 77,
     "metadata": {},
     "output_type": "execute_result"
    }
   ],
   "source": [
    "# What is the average grade for data science students?\n",
    "grades_of_ds_students = [student['grades'] for student in data_science_students]\n",
    "grades_of_ds_students = sum(grades_of_ds_students, [])\n",
    "total_of_grades_of_ds_students = sum(grades_of_ds_students)\n",
    "num_of_grades_of_ds_students = len(grades_of_ds_students)\n",
    "avg_grade_of_ds_students = total_of_grades_of_ds_students / num_of_grades_of_ds_students\n",
    "avg_grade_of_ds_students"
   ]
  },
  {
   "cell_type": "code",
   "execution_count": 18,
   "metadata": {},
   "outputs": [],
   "source": [
    "# What is the average grade range (i.e. highest grade - lowest grade) for dark coffee drinkers?\n",
    "dark_coffee_drinkers = [student for student in students if student['coffee-preference'] == 'dark']\n"
   ]
  },
  {
   "cell_type": "code",
   "execution_count": 19,
   "metadata": {},
   "outputs": [],
   "source": [
    "# What is the average number of pets for medium coffee drinkers?"
   ]
  },
  {
   "cell_type": "code",
   "execution_count": 20,
   "metadata": {},
   "outputs": [],
   "source": [
    "# What is the most common type of pet for web development students?"
   ]
  },
  {
   "cell_type": "code",
   "execution_count": 21,
   "metadata": {},
   "outputs": [],
   "source": [
    "# What is the average name length?"
   ]
  },
  {
   "cell_type": "code",
   "execution_count": 22,
   "metadata": {},
   "outputs": [],
   "source": [
    "# What is the highest pet age for light coffee drinkers?"
   ]
  }
 ],
 "metadata": {
  "kernelspec": {
   "display_name": "Python 3",
   "language": "python",
   "name": "python3"
  },
  "language_info": {
   "codemirror_mode": {
    "name": "ipython",
    "version": 3
   },
   "file_extension": ".py",
   "mimetype": "text/x-python",
   "name": "python",
   "nbconvert_exporter": "python",
   "pygments_lexer": "ipython3",
   "version": "3.7.4"
  }
 },
 "nbformat": 4,
 "nbformat_minor": 2
}
