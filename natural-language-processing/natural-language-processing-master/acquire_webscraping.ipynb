{
 "cells": [
  {
   "cell_type": "code",
   "execution_count": 1,
   "metadata": {},
   "outputs": [],
   "source": [
    "from requests import get\n",
    "import pandas as pd\n",
    "from bs4 import BeautifulSoup as BS\n",
    "import os\n",
    "import re"
   ]
  },
  {
   "cell_type": "code",
   "execution_count": 2,
   "metadata": {},
   "outputs": [],
   "source": [
    "# Making the soup\n",
    "url = 'https://codeup.com/competitor-bootcamps-are-closing-is-the-model-in-danger/'\n",
    "headers = {'User-Agent': 'Codeup Data Science'} # Some websites don't accept the pyhon-requests default user-agent\n",
    "response = get(url, headers=headers)\n",
    "soup = BS(response.content, 'html.parser')"
   ]
  },
  {
   "cell_type": "code",
   "execution_count": 3,
   "metadata": {},
   "outputs": [],
   "source": [
    "def get_article_text(url):\n",
    "    headers = {'User-Agent': 'Codeup Data Science'} # Some websites don't accept the pyhon-requests default user-agent\n",
    "    response = get(url, headers=headers)\n",
    "    soup = BS(response.content, 'html.parser')\n",
    "    \n",
    "    title = soup.title.text\n",
    "    article = soup.main.article.text.replace('\\xa0', ' ')\n",
    "    \n",
    "    return title, article"
   ]
  },
  {
   "cell_type": "code",
   "execution_count": 4,
   "metadata": {},
   "outputs": [],
   "source": [
    "sites = [\n",
    "    'https://codeup.com/codeups-data-science-career-accelerator-is-here/',\n",
    "    'https://codeup.com/data-science-myths/',\n",
    "    'https://codeup.com/data-science-vs-data-analytics-whats-the-difference/',\n",
    "    'https://codeup.com/10-tips-to-crush-it-at-the-sa-tech-job-fair/',\n",
    "    'https://codeup.com/competitor-bootcamps-are-closing-is-the-model-in-danger/']"
   ]
  },
  {
   "cell_type": "code",
   "execution_count": 5,
   "metadata": {},
   "outputs": [],
   "source": [
    "articles = [{'title' : get_article_text(site)[0],\n",
    "             'body'  : get_article_text(site)[1]} for site in sites]"
   ]
  },
  {
   "cell_type": "code",
   "execution_count": 6,
   "metadata": {},
   "outputs": [
    {
     "data": {
      "text/html": [
       "<div>\n",
       "<style scoped>\n",
       "    .dataframe tbody tr th:only-of-type {\n",
       "        vertical-align: middle;\n",
       "    }\n",
       "\n",
       "    .dataframe tbody tr th {\n",
       "        vertical-align: top;\n",
       "    }\n",
       "\n",
       "    .dataframe thead th {\n",
       "        text-align: right;\n",
       "    }\n",
       "</style>\n",
       "<table border=\"1\" class=\"dataframe\">\n",
       "  <thead>\n",
       "    <tr style=\"text-align: right;\">\n",
       "      <th></th>\n",
       "      <th>title</th>\n",
       "      <th>body</th>\n",
       "    </tr>\n",
       "  </thead>\n",
       "  <tbody>\n",
       "    <tr>\n",
       "      <th>0</th>\n",
       "      <td>Codeup’s Data Science Career Accelerator is He...</td>\n",
       "      <td>Codeup’s Data Science Career Accelerator is He...</td>\n",
       "    </tr>\n",
       "    <tr>\n",
       "      <th>1</th>\n",
       "      <td>Data Science Myths - Codeup</td>\n",
       "      <td>Data Science MythsPosted on October 31, 2018In...</td>\n",
       "    </tr>\n",
       "    <tr>\n",
       "      <th>2</th>\n",
       "      <td>Data Science VS Data Analytics: What’s The Dif...</td>\n",
       "      <td>Data Science VS Data Analytics: What’s The Dif...</td>\n",
       "    </tr>\n",
       "    <tr>\n",
       "      <th>3</th>\n",
       "      <td>10 Tips to Crush It at the SA Tech Job Fair - ...</td>\n",
       "      <td>10 Tips to Crush It at the SA Tech Job FairPos...</td>\n",
       "    </tr>\n",
       "    <tr>\n",
       "      <th>4</th>\n",
       "      <td>Competitor Bootcamps Are Closing. Is the Model...</td>\n",
       "      <td>Competitor Bootcamps Are Closing. Is the Model...</td>\n",
       "    </tr>\n",
       "  </tbody>\n",
       "</table>\n",
       "</div>"
      ],
      "text/plain": [
       "                                               title  \\\n",
       "0  Codeup’s Data Science Career Accelerator is He...   \n",
       "1                        Data Science Myths - Codeup   \n",
       "2  Data Science VS Data Analytics: What’s The Dif...   \n",
       "3  10 Tips to Crush It at the SA Tech Job Fair - ...   \n",
       "4  Competitor Bootcamps Are Closing. Is the Model...   \n",
       "\n",
       "                                                body  \n",
       "0  Codeup’s Data Science Career Accelerator is He...  \n",
       "1  Data Science MythsPosted on October 31, 2018In...  \n",
       "2  Data Science VS Data Analytics: What’s The Dif...  \n",
       "3  10 Tips to Crush It at the SA Tech Job FairPos...  \n",
       "4  Competitor Bootcamps Are Closing. Is the Model...  "
      ]
     },
     "execution_count": 6,
     "metadata": {},
     "output_type": "execute_result"
    }
   ],
   "source": [
    "pd.DataFrame(articles)"
   ]
  },
  {
   "cell_type": "code",
   "execution_count": 7,
   "metadata": {},
   "outputs": [],
   "source": [
    "sites = [\n",
    "    'https://inshorts.com/en/read/business',\n",
    "    'https://inshorts.com/en/read/sports',\n",
    "    'https://inshorts.com/en/read/technology',\n",
    "    'https://inshorts.com/en/read/entertainment']"
   ]
  },
  {
   "cell_type": "code",
   "execution_count": 8,
   "metadata": {},
   "outputs": [],
   "source": [
    "url = 'https://inshorts.com/en/read/business'\n",
    "headers = {'User-Agent': 'Codeup Data Science'} # Some websites don't accept the pyhon-requests default user-agent\n",
    "response = get(url, headers=headers)\n",
    "soup = BS(response.content, 'html.parser')"
   ]
  },
  {
   "cell_type": "code",
   "execution_count": 9,
   "metadata": {},
   "outputs": [],
   "source": [
    "articles = soup.select('.news-card')"
   ]
  },
  {
   "cell_type": "code",
   "execution_count": 10,
   "metadata": {},
   "outputs": [],
   "source": [
    "articles = [{'title'  : [article.find(itemprop=\"headline\").text for article in articles],\n",
    "             'body'   : [article.find(itemprop=\"articleBody\").text for article in articles],\n",
    "            'content' : url.split('/')[-1]}]"
   ]
  },
  {
   "cell_type": "code",
   "execution_count": 12,
   "metadata": {},
   "outputs": [],
   "source": [
    "df = pd.DataFrame(articles)"
   ]
  },
  {
   "cell_type": "code",
   "execution_count": 13,
   "metadata": {},
   "outputs": [
    {
     "data": {
      "text/html": [
       "<div>\n",
       "<style scoped>\n",
       "    .dataframe tbody tr th:only-of-type {\n",
       "        vertical-align: middle;\n",
       "    }\n",
       "\n",
       "    .dataframe tbody tr th {\n",
       "        vertical-align: top;\n",
       "    }\n",
       "\n",
       "    .dataframe thead th {\n",
       "        text-align: right;\n",
       "    }\n",
       "</style>\n",
       "<table border=\"1\" class=\"dataframe\">\n",
       "  <thead>\n",
       "    <tr style=\"text-align: right;\">\n",
       "      <th></th>\n",
       "      <th>title</th>\n",
       "      <th>body</th>\n",
       "      <th>content</th>\n",
       "    </tr>\n",
       "  </thead>\n",
       "  <tbody>\n",
       "    <tr>\n",
       "      <th>0</th>\n",
       "      <td>[Firm whose stock surged 1000% in 2020 starts ...</td>\n",
       "      <td>[US biotech company Novavax said it has starte...</td>\n",
       "      <td>business</td>\n",
       "    </tr>\n",
       "  </tbody>\n",
       "</table>\n",
       "</div>"
      ],
      "text/plain": [
       "                                               title  \\\n",
       "0  [Firm whose stock surged 1000% in 2020 starts ...   \n",
       "\n",
       "                                                body   content  \n",
       "0  [US biotech company Novavax said it has starte...  business  "
      ]
     },
     "execution_count": 13,
     "metadata": {},
     "output_type": "execute_result"
    }
   ],
   "source": [
    "df"
   ]
  },
  {
   "cell_type": "code",
   "execution_count": 16,
   "metadata": {},
   "outputs": [],
   "source": [
    "def get_articles_from_topic(url):\n",
    "    headers = {'User-Agent': 'Codeup Data Science'}\n",
    "    response = get(url, headers=headers)\n",
    "    soup = BS(response.content, 'html.parser')\n",
    "    output = []\n",
    "    articles = soup.select(\".news-card\")\n",
    "    for article in articles: \n",
    "        title = article.select(\"[itemprop='headline']\")[0].get_text()\n",
    "        body = article.select(\"[itemprop='articleBody']\")[0].get_text()\n",
    "        author = article.select(\".author\")[0].get_text()\n",
    "        published_date = article.select(\".time\")[0][\"content\"]\n",
    "        category = response.url.split(\"/\")[-1]\n",
    "        article_data = {\n",
    "            'title': title,\n",
    "            'body': body,\n",
    "            'category': category,\n",
    "            'author': author,\n",
    "            'published_date': published_date,\n",
    "        }\n",
    "        output.append(article_data)\n",
    "    return output"
   ]
  },
  {
   "cell_type": "code",
   "execution_count": 24,
   "metadata": {},
   "outputs": [],
   "source": [
    "def get_news_articles():\n",
    "    urls = [\n",
    "        \"https://inshorts.com/en/read/business\",\n",
    "        \"https://inshorts.com/en/read/sports\",\n",
    "        \"https://inshorts.com/en/read/technology\",\n",
    "        \"https://inshorts.com/en/read/entertainment\"\n",
    "    ]\n",
    "    output = []\n",
    "    for url in urls:\n",
    "        output.extend(get_articles_from_topic(url))\n",
    "    df = pd.DataFrame(output)\n",
    "    df.to_csv('inshorts_news_articles.csv')\n",
    "    return df"
   ]
  },
  {
   "cell_type": "code",
   "execution_count": 26,
   "metadata": {},
   "outputs": [
    {
     "data": {
      "text/html": [
       "<div>\n",
       "<style scoped>\n",
       "    .dataframe tbody tr th:only-of-type {\n",
       "        vertical-align: middle;\n",
       "    }\n",
       "\n",
       "    .dataframe tbody tr th {\n",
       "        vertical-align: top;\n",
       "    }\n",
       "\n",
       "    .dataframe thead th {\n",
       "        text-align: right;\n",
       "    }\n",
       "</style>\n",
       "<table border=\"1\" class=\"dataframe\">\n",
       "  <thead>\n",
       "    <tr style=\"text-align: right;\">\n",
       "      <th></th>\n",
       "      <th>title</th>\n",
       "      <th>body</th>\n",
       "      <th>category</th>\n",
       "      <th>author</th>\n",
       "      <th>published_date</th>\n",
       "    </tr>\n",
       "  </thead>\n",
       "  <tbody>\n",
       "    <tr>\n",
       "      <th>0</th>\n",
       "      <td>Nokia shuts plant in Tamil Nadu after some emp...</td>\n",
       "      <td>Nokia on Tuesday said it suspended operations ...</td>\n",
       "      <td>business</td>\n",
       "      <td>Krishna Veera Vanamali</td>\n",
       "      <td>2020-05-27T04:10:52.000Z</td>\n",
       "    </tr>\n",
       "    <tr>\n",
       "      <th>1</th>\n",
       "      <td>Glenmark to start clinical trial to test poten...</td>\n",
       "      <td>Glenmark Pharmaceuticals on Tuesday said it wi...</td>\n",
       "      <td>business</td>\n",
       "      <td>Krishna Veera Vanamali</td>\n",
       "      <td>2020-05-26T11:22:33.000Z</td>\n",
       "    </tr>\n",
       "    <tr>\n",
       "      <th>2</th>\n",
       "      <td>Firm whose stock surged 1000% in 2020 starts h...</td>\n",
       "      <td>US biotech company Novavax said it has started...</td>\n",
       "      <td>business</td>\n",
       "      <td>Krishna Veera Vanamali</td>\n",
       "      <td>2020-05-26T10:17:41.000Z</td>\n",
       "    </tr>\n",
       "    <tr>\n",
       "      <th>3</th>\n",
       "      <td>India's economic growth seen at 1.2% in Q4 FY2...</td>\n",
       "      <td>India's economy is estimated to have grown at ...</td>\n",
       "      <td>business</td>\n",
       "      <td>Dharna</td>\n",
       "      <td>2020-05-26T12:41:03.000Z</td>\n",
       "    </tr>\n",
       "    <tr>\n",
       "      <th>4</th>\n",
       "      <td>Twitter CEO donates $10M to project giving $1,...</td>\n",
       "      <td>Twitter's billionaire CEO Jack Dorsey has dona...</td>\n",
       "      <td>business</td>\n",
       "      <td>Pragya Swastik</td>\n",
       "      <td>2020-05-27T09:16:22.000Z</td>\n",
       "    </tr>\n",
       "    <tr>\n",
       "      <th>...</th>\n",
       "      <td>...</td>\n",
       "      <td>...</td>\n",
       "      <td>...</td>\n",
       "      <td>...</td>\n",
       "      <td>...</td>\n",
       "    </tr>\n",
       "    <tr>\n",
       "      <th>95</th>\n",
       "      <td>Mandana Karimi dismisses rumours of testing po...</td>\n",
       "      <td>Former Bigg Boss contestant and model-turned-a...</td>\n",
       "      <td>entertainment</td>\n",
       "      <td>Udit Gupta</td>\n",
       "      <td>2020-05-26T15:22:04.000Z</td>\n",
       "    </tr>\n",
       "    <tr>\n",
       "      <th>96</th>\n",
       "      <td>I overcame that: Madhuri on being called 'very...</td>\n",
       "      <td>When asked if she has heard anything nasty bei...</td>\n",
       "      <td>entertainment</td>\n",
       "      <td>Udit Gupta</td>\n",
       "      <td>2020-05-26T15:31:17.000Z</td>\n",
       "    </tr>\n",
       "    <tr>\n",
       "      <th>97</th>\n",
       "      <td>Never thought about casting myself for the ser...</td>\n",
       "      <td>On being asked if she ever thought about casti...</td>\n",
       "      <td>entertainment</td>\n",
       "      <td>Udit Gupta</td>\n",
       "      <td>2020-05-26T16:31:23.000Z</td>\n",
       "    </tr>\n",
       "    <tr>\n",
       "      <th>98</th>\n",
       "      <td>Akshay holds virtual meeting with team of 'Bel...</td>\n",
       "      <td>Akshay Kumar attended a virtual meeting with t...</td>\n",
       "      <td>entertainment</td>\n",
       "      <td>Udit Gupta</td>\n",
       "      <td>2020-05-26T17:07:15.000Z</td>\n",
       "    </tr>\n",
       "    <tr>\n",
       "      <th>99</th>\n",
       "      <td>Sonu Sood launches toll-free number to help mi...</td>\n",
       "      <td>Actor Sonu Sood has launched a toll-free numbe...</td>\n",
       "      <td>entertainment</td>\n",
       "      <td>Atul Mishra</td>\n",
       "      <td>2020-05-27T03:49:31.000Z</td>\n",
       "    </tr>\n",
       "  </tbody>\n",
       "</table>\n",
       "<p>100 rows × 5 columns</p>\n",
       "</div>"
      ],
      "text/plain": [
       "                                                title  \\\n",
       "0   Nokia shuts plant in Tamil Nadu after some emp...   \n",
       "1   Glenmark to start clinical trial to test poten...   \n",
       "2   Firm whose stock surged 1000% in 2020 starts h...   \n",
       "3   India's economic growth seen at 1.2% in Q4 FY2...   \n",
       "4   Twitter CEO donates $10M to project giving $1,...   \n",
       "..                                                ...   \n",
       "95  Mandana Karimi dismisses rumours of testing po...   \n",
       "96  I overcame that: Madhuri on being called 'very...   \n",
       "97  Never thought about casting myself for the ser...   \n",
       "98  Akshay holds virtual meeting with team of 'Bel...   \n",
       "99  Sonu Sood launches toll-free number to help mi...   \n",
       "\n",
       "                                                 body       category  \\\n",
       "0   Nokia on Tuesday said it suspended operations ...       business   \n",
       "1   Glenmark Pharmaceuticals on Tuesday said it wi...       business   \n",
       "2   US biotech company Novavax said it has started...       business   \n",
       "3   India's economy is estimated to have grown at ...       business   \n",
       "4   Twitter's billionaire CEO Jack Dorsey has dona...       business   \n",
       "..                                                ...            ...   \n",
       "95  Former Bigg Boss contestant and model-turned-a...  entertainment   \n",
       "96  When asked if she has heard anything nasty bei...  entertainment   \n",
       "97  On being asked if she ever thought about casti...  entertainment   \n",
       "98  Akshay Kumar attended a virtual meeting with t...  entertainment   \n",
       "99  Actor Sonu Sood has launched a toll-free numbe...  entertainment   \n",
       "\n",
       "                    author            published_date  \n",
       "0   Krishna Veera Vanamali  2020-05-27T04:10:52.000Z  \n",
       "1   Krishna Veera Vanamali  2020-05-26T11:22:33.000Z  \n",
       "2   Krishna Veera Vanamali  2020-05-26T10:17:41.000Z  \n",
       "3                   Dharna  2020-05-26T12:41:03.000Z  \n",
       "4           Pragya Swastik  2020-05-27T09:16:22.000Z  \n",
       "..                     ...                       ...  \n",
       "95              Udit Gupta  2020-05-26T15:22:04.000Z  \n",
       "96              Udit Gupta  2020-05-26T15:31:17.000Z  \n",
       "97              Udit Gupta  2020-05-26T16:31:23.000Z  \n",
       "98              Udit Gupta  2020-05-26T17:07:15.000Z  \n",
       "99             Atul Mishra  2020-05-27T03:49:31.000Z  \n",
       "\n",
       "[100 rows x 5 columns]"
      ]
     },
     "execution_count": 26,
     "metadata": {},
     "output_type": "execute_result"
    }
   ],
   "source": [
    "get_news_articles()"
   ]
  }
 ],
 "metadata": {
  "kernelspec": {
   "display_name": "Python 3",
   "language": "python",
   "name": "python3"
  },
  "language_info": {
   "codemirror_mode": {
    "name": "ipython",
    "version": 3
   },
   "file_extension": ".py",
   "mimetype": "text/x-python",
   "name": "python",
   "nbconvert_exporter": "python",
   "pygments_lexer": "ipython3",
   "version": "3.7.6"
  }
 },
 "nbformat": 4,
 "nbformat_minor": 4
}
