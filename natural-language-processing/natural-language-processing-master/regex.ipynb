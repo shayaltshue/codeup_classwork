{
 "cells": [
  {
   "cell_type": "code",
   "execution_count": 1,
   "metadata": {},
   "outputs": [],
   "source": [
    "import re"
   ]
  },
  {
   "cell_type": "code",
   "execution_count": 110,
   "metadata": {},
   "outputs": [],
   "source": [
    "def is_vowel(string):\n",
    "    if re.search(r'^[aeiouAEIOU]$', string):\n",
    "        return True\n",
    "    return False"
   ]
  },
  {
   "cell_type": "code",
   "execution_count": 111,
   "metadata": {},
   "outputs": [],
   "source": [
    "assert is_vowel('b') == False\n",
    "assert is_vowel('a') == True\n",
    "assert is_vowel('aa') == False"
   ]
  },
  {
   "cell_type": "markdown",
   "metadata": {},
   "source": [
    "Write a function named is_valid_username that accepts a string as input. A valid username starts with a lowercase letter, and only consists of lowercase letters, numbers, or the _ character. It should also be no longer than 32 characters. The function should return either True or False depending on whether the passed string is a valid username."
   ]
  },
  {
   "cell_type": "code",
   "execution_count": 112,
   "metadata": {},
   "outputs": [],
   "source": [
    "def is_valid_username(username):\n",
    "    if re.search(r'^[a-z][a-z0-9_]{,31}$', username):\n",
    "                 return True\n",
    "    return False"
   ]
  },
  {
   "cell_type": "code",
   "execution_count": 113,
   "metadata": {},
   "outputs": [],
   "source": [
    "assert is_valid_username('aaaaaaaaaaaaaaaaaaaaaaaaaaaaaaaaa') == False\n",
    "assert is_valid_username('codeup') == True\n",
    "assert is_valid_username('codeup!') == False"
   ]
  },
  {
   "cell_type": "markdown",
   "metadata": {},
   "source": [
    "Write a regular expression to capture phone numbers. It should match all of the following:\n",
    "- (210) 867 5309\n",
    "- +1 210.867.5309\n",
    "- 867-5309\n",
    "- 210-867-5309"
   ]
  },
  {
   "cell_type": "code",
   "execution_count": 9,
   "metadata": {},
   "outputs": [],
   "source": [
    "def get_phone_number(string):\n",
    "    string = re.sub(r'[^1-9]', '', string)\n",
    "    return string"
   ]
  },
  {
   "cell_type": "code",
   "execution_count": 117,
   "metadata": {},
   "outputs": [],
   "source": [
    "assert get_phone_number('(210) 867 5309') == '21867539'\n",
    "assert get_phone_number('+1 210.867.5309') == '121867539'\n",
    "assert get_phone_number('867-5309') == '867539'\n",
    "assert get_phone_number('210-867-5309') == '21867539'"
   ]
  },
  {
   "cell_type": "markdown",
   "metadata": {},
   "source": [
    "Use regular expressions to convert the dates below to the standardized year-month-day format:\n",
    "- 02/04/19\n",
    "- 02/05/19\n",
    "- 02/06/19\n",
    "- 02/07/19\n",
    "- 02/08/19\n",
    "- 02/09/19\n",
    "- 02/10/19"
   ]
  },
  {
   "cell_type": "code",
   "execution_count": 14,
   "metadata": {},
   "outputs": [],
   "source": [
    "def format_date(string):\n",
    "    month, day, year = re.search(r'(\\d{2})\\/(\\d{2})\\/(\\d{2})', \n",
    "                                 string).groups()\n",
    "    \n",
    "    return year + '/' + month + '/' + day"
   ]
  },
  {
   "cell_type": "code",
   "execution_count": 118,
   "metadata": {},
   "outputs": [],
   "source": [
    "assert format_date('02/04/19') == '19/02/04'"
   ]
  },
  {
   "cell_type": "markdown",
   "metadata": {},
   "source": [
    "Write a regex to extract the various parts of these logfile lines:\n",
    "\n",
    "- GET /api/v1/sales?page=86 [16/Apr/2019:193452+0000] HTTP/1.1 {200} 510348 \"python-requests/2.21.0\" 97.105.19.58\n",
    "- POST /users_accounts/file-upload [16/Apr/2019:193452+0000] HTTP/1.1 {201} 42 \"User-Agent: Mozilla/5.0 (X11; Fedora; Fedora; Linux x86_64)AppleWebKit/537.36 (KHTML, like Gecko) Chrome/73.0.3683.86 Safari/537.36\" 97.105.19.58\n",
    "- GET /api/v1/items?page=3 [16/Apr/2019:193453+0000] HTTP/1.1 {429} 3561 \"python-requests/2.21.0\" 97.105.19.58"
   ]
  },
  {
   "cell_type": "code",
   "execution_count": 98,
   "metadata": {},
   "outputs": [],
   "source": [
    "def get_logfile(string):\n",
    "    reg = r'''([A-z/1-9.]+)    # Type\n",
    "            \\s\\/\n",
    "            (?P<URL> [1-9a-z\\/?=]+)    # URL\n",
    "            \\s\n",
    "            (\\[[1-9A-z\\/:+0]+)    # Time stamp\n",
    "            \\s\n",
    "            ([A-Z\\/[1-9.]+\\s\\{[1-90]+\\})  # Error Type\n",
    "            \\s\n",
    "            ([1-90]+)  # User\n",
    "            \\s\n",
    "            (\\\"[a-z-/1-9.0]+\\\")    # Request\n",
    "            \\s\n",
    "            ([1-9.0]+)    # IP\n",
    "            '''\n",
    "    type, url, timestamp, error_type, user, request, ip = re.search(reg, string, re.VERBOSE).groups()\n",
    "    return type, url, timestamp, error_type, user, request, ip"
   ]
  },
  {
   "cell_type": "code",
   "execution_count": 102,
   "metadata": {},
   "outputs": [
    {
     "name": "stdout",
     "output_type": "stream",
     "text": [
      "\n",
      "    user: 3561\n",
      "    type: GET\n",
      "    url:  api/v1/items?page=3\n",
      "    request: \"python-requests/2.21.0\"\n",
      "    IP address: 97.105.19.58\n",
      "    timestamp:  [16/Apr/2019:193453+0000]\n",
      "    error type: HTTP/1.1 {429}\n",
      "    \n"
     ]
    }
   ],
   "source": [
    "string = 'GET /api/v1/items?page=3 [16/Apr/2019:193453+0000] HTTP/1.1 {429} 3561 \"python-requests/2.21.0\" 97.105.19.58'\n",
    "type, url, timestamp, error_type, user, request, ip = get_logfile(string)\n",
    "print(f'''\n",
    "    user: {user}\n",
    "    type: {type}\n",
    "    url:  {url}\n",
    "    request: {request}\n",
    "    IP address: {ip}\n",
    "    timestamp:  {timestamp}\n",
    "    error type: {error_type}\n",
    "    ''')"
   ]
  },
  {
   "cell_type": "markdown",
   "metadata": {},
   "source": [
    "with open('/usr/share/dict/words', 'r') as f:    \n",
    "    file_contents = f.readlines()"
   ]
  }
 ],
 "metadata": {
  "kernelspec": {
   "display_name": "Python 3",
   "language": "python",
   "name": "python3"
  },
  "language_info": {
   "codemirror_mode": {
    "name": "ipython",
    "version": 3
   },
   "file_extension": ".py",
   "mimetype": "text/x-python",
   "name": "python",
   "nbconvert_exporter": "python",
   "pygments_lexer": "ipython3",
   "version": "3.7.6"
  }
 },
 "nbformat": 4,
 "nbformat_minor": 4
}
